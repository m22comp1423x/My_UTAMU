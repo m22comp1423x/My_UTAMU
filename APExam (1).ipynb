{
 "cells": [
  {
   "cell_type": "markdown",
   "id": "86b3b8ac",
   "metadata": {},
   "source": [
    "# Advanced Programming Final Examination"
   ]
  },
  {
   "cell_type": "code",
   "execution_count": 2,
   "id": "a00b9b76",
   "metadata": {},
   "outputs": [],
   "source": [
    "# Student name: Ciniso Msibi\n",
    "# Registrstion Number: MAY22/COMP/1423X\n",
    "# Semester 1"
   ]
  },
  {
   "cell_type": "markdown",
   "id": "365574a5",
   "metadata": {},
   "source": [
    "#### a) The variable release_year_dict is a Python Dictionary, what is the result of applying the following method: release_year_dict.keys() ? (3 marks)"
   ]
  },
  {
   "cell_type": "code",
   "execution_count": 7,
   "id": "83efabfa",
   "metadata": {},
   "outputs": [
    {
     "data": {
      "text/plain": [
       "dict_keys(['Aa', 'Ab'])"
      ]
     },
     "execution_count": 7,
     "metadata": {},
     "output_type": "execute_result"
    }
   ],
   "source": [
    "release_year_dict = {'Aa':'Advanced','Ab':'Programming'}\n",
    "release_year_dict.keys()"
   ]
  },
  {
   "cell_type": "markdown",
   "id": "ed736176",
   "metadata": {},
   "source": [
    "- It will retrieve the keys of the dictionary"
   ]
  },
  {
   "cell_type": "markdown",
   "id": "3b76b609",
   "metadata": {},
   "source": [
    "#### b) In Python 3, what is the type of the variable x after the following: x=1/1 (3 marks)"
   ]
  },
  {
   "cell_type": "code",
   "execution_count": 4,
   "id": "430d0108",
   "metadata": {},
   "outputs": [
    {
     "data": {
      "text/plain": [
       "1.0"
      ]
     },
     "execution_count": 4,
     "metadata": {},
     "output_type": "execute_result"
    }
   ],
   "source": [
    "x=1/1\n",
    "x"
   ]
  },
  {
   "cell_type": "markdown",
   "id": "437acc63",
   "metadata": {},
   "source": [
    "- Float datatype"
   ]
  },
  {
   "cell_type": "markdown",
   "id": "853dab68",
   "metadata": {},
   "source": [
    "#### c) Consider the dataframe df how would you access the element in the 1st row 3rd column? (3 marks)"
   ]
  },
  {
   "cell_type": "code",
   "execution_count": 45,
   "id": "4be16eb7",
   "metadata": {},
   "outputs": [
    {
     "data": {
      "text/html": [
       "<div>\n",
       "<style scoped>\n",
       "    .dataframe tbody tr th:only-of-type {\n",
       "        vertical-align: middle;\n",
       "    }\n",
       "\n",
       "    .dataframe tbody tr th {\n",
       "        vertical-align: top;\n",
       "    }\n",
       "\n",
       "    .dataframe thead th {\n",
       "        text-align: right;\n",
       "    }\n",
       "</style>\n",
       "<table border=\"1\" class=\"dataframe\">\n",
       "  <thead>\n",
       "    <tr style=\"text-align: right;\">\n",
       "      <th></th>\n",
       "      <th>Weight</th>\n",
       "    </tr>\n",
       "  </thead>\n",
       "  <tbody>\n",
       "    <tr>\n",
       "      <th>0</th>\n",
       "      <td>70</td>\n",
       "    </tr>\n",
       "  </tbody>\n",
       "</table>\n",
       "</div>"
      ],
      "text/plain": [
       "   Weight\n",
       "0      70"
      ]
     },
     "execution_count": 45,
     "metadata": {},
     "output_type": "execute_result"
    }
   ],
   "source": [
    "import pandas as pd\n",
    "\n",
    "data = {\"calories\": [420, 380, 390,42],\"duration\": [50, 40, 45,45],\"Weight\": [70, 50, 95,41]}\n",
    "df = pd.DataFrame(data)\n",
    "df = df.iloc[[0],[2]]\n",
    "df"
   ]
  },
  {
   "cell_type": "markdown",
   "id": "6054ccb6",
   "metadata": {},
   "source": [
    "- df.iloc[[o],[2]]"
   ]
  },
  {
   "cell_type": "markdown",
   "id": "a7ac7cf9",
   "metadata": {},
   "source": [
    "#### d) In the class, you learned you can also obtain a series from a dataframe df, write the correct way to assign the column with the header Length to a pandas series to the variable x. (3 marks)"
   ]
  },
  {
   "cell_type": "markdown",
   "id": "b7573f4a",
   "metadata": {},
   "source": [
    "- df.rename(columns = {\"Length\":\"x\"})"
   ]
  },
  {
   "cell_type": "markdown",
   "id": "c8bdda4a",
   "metadata": {},
   "source": [
    "#### e) What is the result of applying the following method df.head(), to the dataframe df (3 marks)"
   ]
  },
  {
   "cell_type": "markdown",
   "id": "f3ff93de",
   "metadata": {},
   "source": [
    "- It shows the first 5 rows of the dataframe"
   ]
  },
  {
   "cell_type": "markdown",
   "id": "4311b4e8",
   "metadata": {},
   "source": [
    "#### f) How do you cast the list A to the set a? (3 marks)"
   ]
  },
  {
   "cell_type": "markdown",
   "id": "254e8ca9",
   "metadata": {},
   "source": [
    "- set_a = set(list_A)"
   ]
  },
  {
   "cell_type": "markdown",
   "id": "e734620f",
   "metadata": {},
   "source": [
    "#### g) What is the result of the following: 'C' in {'A','B'}? (3 marks)"
   ]
  },
  {
   "cell_type": "markdown",
   "id": "a9225053",
   "metadata": {},
   "source": [
    "- {'A','B','C'}"
   ]
  },
  {
   "cell_type": "markdown",
   "id": "984729d3",
   "metadata": {},
   "source": [
    "#### h) Consider the Set: V={'1','2'}, what is the result of V.add('3')? (3 marks)"
   ]
  },
  {
   "cell_type": "code",
   "execution_count": 48,
   "id": "9ebe6e6e",
   "metadata": {},
   "outputs": [
    {
     "data": {
      "text/plain": [
       "{'1', '2', '3'}"
      ]
     },
     "execution_count": 48,
     "metadata": {},
     "output_type": "execute_result"
    }
   ],
   "source": [
    "V = {'1','2'}\n",
    "V.add('3')\n",
    "V"
   ]
  },
  {
   "cell_type": "markdown",
   "id": "9f27293d",
   "metadata": {},
   "source": [
    "- {'1', '2', '3'}"
   ]
  },
  {
   "cell_type": "markdown",
   "id": "095b32e0",
   "metadata": {},
   "source": [
    "#### i)  Consider the Set: U=['1','2'], write a code for adding 3 in set U? (3 marks)"
   ]
  },
  {
   "cell_type": "markdown",
   "id": "3bee5cbd",
   "metadata": {},
   "source": [
    "- U.add('3')"
   ]
  },
  {
   "cell_type": "markdown",
   "id": "3b826429",
   "metadata": {},
   "source": [
    "#### j) What is the result of the following: str(1)+str(6)? (3 marks)"
   ]
  },
  {
   "cell_type": "code",
   "execution_count": 50,
   "id": "1a459a1e",
   "metadata": {},
   "outputs": [
    {
     "data": {
      "text/plain": [
       "'16'"
      ]
     },
     "execution_count": 50,
     "metadata": {},
     "output_type": "execute_result"
    }
   ],
   "source": [
    "str(1)+str(6)"
   ]
  },
  {
   "cell_type": "markdown",
   "id": "4b19dd89",
   "metadata": {},
   "source": [
    "- '16'"
   ]
  },
  {
   "cell_type": "markdown",
   "id": "f2a7b4e5",
   "metadata": {},
   "source": [
    "#### k) Consider the variable B ={“WHO Region”, “Geographical location”, “longitude and latitude” }. Write python code that can change WHO Region to “Region”, Geographical location to “Location”, longitude and latitude to “Location”. (4 marks)"
   ]
  },
  {
   "cell_type": "code",
   "execution_count": 57,
   "id": "80669cf5",
   "metadata": {},
   "outputs": [
    {
     "data": {
      "text/plain": [
       "{'Geographical location', 'Region', 'WHO Region', 'longitude and latitude'}"
      ]
     },
     "execution_count": 57,
     "metadata": {},
     "output_type": "execute_result"
    }
   ],
   "source": [
    "B = {\"WHO Region\", \"Geographical location\", \"longitude and latitude\" }\n",
    "B.update([\"Region\"])\n",
    "B"
   ]
  },
  {
   "cell_type": "markdown",
   "id": "c7bae04e",
   "metadata": {},
   "source": [
    "#### l) Consider the string A='1293456789', what is the result of the following operation A[4::] (3 marks)\n"
   ]
  },
  {
   "cell_type": "code",
   "execution_count": 54,
   "id": "b6707635",
   "metadata": {},
   "outputs": [
    {
     "data": {
      "text/plain": [
       "'456789'"
      ]
     },
     "execution_count": 54,
     "metadata": {},
     "output_type": "execute_result"
    }
   ],
   "source": [
    "A ='1293456789'\n",
    "A[4::]"
   ]
  },
  {
   "cell_type": "markdown",
   "id": "c0c7002b",
   "metadata": {},
   "source": [
    "- '456789'"
   ]
  },
  {
   "cell_type": "markdown",
   "id": "d5872194",
   "metadata": {},
   "source": [
    "#### m) Consider the string Name=\"UTAMU\", what is the result of the following operation Name.find(\"M\"). (3 marks)"
   ]
  },
  {
   "cell_type": "code",
   "execution_count": 59,
   "id": "f2cc9bba",
   "metadata": {},
   "outputs": [
    {
     "data": {
      "text/plain": [
       "3"
      ]
     },
     "execution_count": 59,
     "metadata": {},
     "output_type": "execute_result"
    }
   ],
   "source": [
    "Name =\"UTAMU\"\n",
    "Name.find(\"M\")"
   ]
  },
  {
   "cell_type": "markdown",
   "id": "d99b51ce",
   "metadata": {},
   "source": [
    "- The result is the position of the letter M in the variable Name's value.The position is 3"
   ]
  },
  {
   "cell_type": "markdown",
   "id": "c3256ebb",
   "metadata": {},
   "source": [
    "## Section B"
   ]
  },
  {
   "cell_type": "markdown",
   "id": "7b3c668c",
   "metadata": {},
   "source": [
    "### Question 2"
   ]
  },
  {
   "cell_type": "code",
   "execution_count": 60,
   "id": "ded8f8e2",
   "metadata": {},
   "outputs": [
    {
     "name": "stdout",
     "output_type": "stream",
     "text": [
      "Collecting package metadata (current_repodata.json): ...working... done\n",
      "Solving environment: ...working... failed with initial frozen solve. Retrying with flexible solve.\n",
      "Collecting package metadata (repodata.json): ...working... done\n",
      "Solving environment: ...working... \n",
      "Warning: 4 possible package resolutions (only showing differing packages):\n",
      "  - anaconda/win-64::certifi-2021.10.8-py39haa95532_2, anaconda/win-64::openssl-1.1.1n-h2bbff1b_0\n",
      "  - anaconda/win-64::openssl-1.1.1n-h2bbff1b_0, defaults/win-64::certifi-2021.10.8-py39haa95532_2\n",
      "  - anaconda/win-64::certifi-2021.10.8-py39haa95532_2, defaults/win-64::openssl-1.1.1n-h2bbff1b_0\n",
      "  - defaults/win-64::certifi-2021.10.8-py39haa95532_2, defaults/win-64::openssl-1.1.1n-h2bbff1b_0done\n",
      "\n",
      "## Package Plan ##\n",
      "\n",
      "  environment location: C:\\Users\\OXIDE_MUSICA\\anaconda3\n",
      "\n",
      "  added / updated specs:\n",
      "    - folium=0.5.0\n",
      "\n",
      "\n",
      "The following packages will be downloaded:\n",
      "\n",
      "    package                    |            build\n",
      "    ---------------------------|-----------------\n",
      "    altair-4.2.0               |     pyhd8ed1ab_1         711 KB  conda-forge\n",
      "    branca-0.5.0               |     pyhd8ed1ab_0          26 KB  conda-forge\n",
      "    conda-build-3.22.0         |   py39hcbf5309_1         582 KB  conda-forge\n",
      "    folium-0.5.0               |             py_0          45 KB  conda-forge\n",
      "    m2-msys2-runtime-2.5.0.17080.65c939c|                3         3.0 MB  conda-forge\n",
      "    m2-patch-2.7.5             |                2          90 KB  conda-forge\n",
      "    m2w64-gcc-libgfortran-5.3.0|                6         342 KB  conda-forge\n",
      "    m2w64-gcc-libs-5.3.0       |                7         520 KB  conda-forge\n",
      "    m2w64-gcc-libs-core-5.3.0  |                7         214 KB  conda-forge\n",
      "    m2w64-gmp-6.1.0            |                2         726 KB  conda-forge\n",
      "    ripgrep-13.0.0             |       h7f3b576_2         1.6 MB  conda-forge\n",
      "    vincent-0.4.4              |             py_1          28 KB  conda-forge\n",
      "    ------------------------------------------------------------\n",
      "                                           Total:         7.8 MB\n",
      "\n",
      "The following NEW packages will be INSTALLED:\n",
      "\n",
      "  altair             conda-forge/noarch::altair-4.2.0-pyhd8ed1ab_1\n",
      "  branca             conda-forge/noarch::branca-0.5.0-pyhd8ed1ab_0\n",
      "  folium             conda-forge/noarch::folium-0.5.0-py_0\n",
      "  m2-msys2-runtime   conda-forge/win-64::m2-msys2-runtime-2.5.0.17080.65c939c-3\n",
      "  m2-patch           conda-forge/win-64::m2-patch-2.7.5-2\n",
      "  m2w64-gcc-libgfor~ conda-forge/win-64::m2w64-gcc-libgfortran-5.3.0-6\n",
      "  m2w64-gcc-libs     conda-forge/win-64::m2w64-gcc-libs-5.3.0-7\n",
      "  m2w64-gcc-libs-co~ conda-forge/win-64::m2w64-gcc-libs-core-5.3.0-7\n",
      "  m2w64-gmp          conda-forge/win-64::m2w64-gmp-6.1.0-2\n",
      "  ripgrep            conda-forge/win-64::ripgrep-13.0.0-h7f3b576_2\n",
      "  vincent            conda-forge/noarch::vincent-0.4.4-py_1\n",
      "\n",
      "The following packages will be UPDATED:\n",
      "\n",
      "  conda-build        pkgs/main::conda-build-3.21.8-py39haa~ --> conda-forge::conda-build-3.22.0-py39hcbf5309_1\n",
      "\n",
      "\n",
      "\n",
      "Downloading and Extracting Packages\n",
      "\n",
      "conda-build-3.22.0   | 582 KB    |            |   0% \n",
      "conda-build-3.22.0   | 582 KB    | 2          |   3% \n",
      "conda-build-3.22.0   | 582 KB    | #9         |  19% \n",
      "conda-build-3.22.0   | 582 KB    | ##7        |  27% \n",
      "conda-build-3.22.0   | 582 KB    | ###8       |  38% \n",
      "conda-build-3.22.0   | 582 KB    | ####9      |  49% \n",
      "conda-build-3.22.0   | 582 KB    | ########2  |  82% \n",
      "conda-build-3.22.0   | 582 KB    | #########8 |  99% \n",
      "conda-build-3.22.0   | 582 KB    | ########## | 100% \n",
      "\n",
      "folium-0.5.0         | 45 KB     |            |   0% \n",
      "folium-0.5.0         | 45 KB     | ###5       |  35% \n",
      "folium-0.5.0         | 45 KB     | ########## | 100% \n",
      "folium-0.5.0         | 45 KB     | ########## | 100% \n",
      "\n",
      "vincent-0.4.4        | 28 KB     |            |   0% \n",
      "vincent-0.4.4        | 28 KB     | #####7     |  58% \n",
      "vincent-0.4.4        | 28 KB     | ########## | 100% \n",
      "vincent-0.4.4        | 28 KB     | ########## | 100% \n",
      "\n",
      "m2w64-gcc-libs-5.3.0 | 520 KB    |            |   0% \n",
      "m2w64-gcc-libs-5.3.0 | 520 KB    | 3          |   3% \n",
      "m2w64-gcc-libs-5.3.0 | 520 KB    | #2         |  12% \n",
      "m2w64-gcc-libs-5.3.0 | 520 KB    | #8         |  18% \n",
      "m2w64-gcc-libs-5.3.0 | 520 KB    | ##1        |  22% \n",
      "m2w64-gcc-libs-5.3.0 | 520 KB    | ####3      |  43% \n",
      "m2w64-gcc-libs-5.3.0 | 520 KB    | ####9      |  49% \n",
      "m2w64-gcc-libs-5.3.0 | 520 KB    | ########   |  80% \n",
      "m2w64-gcc-libs-5.3.0 | 520 KB    | #########5 |  95% \n",
      "m2w64-gcc-libs-5.3.0 | 520 KB    | ########## | 100% \n",
      "\n",
      "m2w64-gmp-6.1.0      | 726 KB    |            |   0% \n",
      "m2w64-gmp-6.1.0      | 726 KB    | 2          |   2% \n",
      "m2w64-gmp-6.1.0      | 726 KB    | 6          |   7% \n",
      "m2w64-gmp-6.1.0      | 726 KB    | #1         |  11% \n",
      "m2w64-gmp-6.1.0      | 726 KB    | #5         |  15% \n",
      "m2w64-gmp-6.1.0      | 726 KB    | #9         |  20% \n",
      "m2w64-gmp-6.1.0      | 726 KB    | ##4        |  24% \n",
      "m2w64-gmp-6.1.0      | 726 KB    | ##8        |  29% \n",
      "m2w64-gmp-6.1.0      | 726 KB    | ###3       |  33% \n",
      "m2w64-gmp-6.1.0      | 726 KB    | ###7       |  37% \n",
      "m2w64-gmp-6.1.0      | 726 KB    | ####6      |  46% \n",
      "m2w64-gmp-6.1.0      | 726 KB    | #####7     |  57% \n",
      "m2w64-gmp-6.1.0      | 726 KB    | ######3    |  64% \n",
      "m2w64-gmp-6.1.0      | 726 KB    | #######    |  71% \n",
      "m2w64-gmp-6.1.0      | 726 KB    | #######7   |  77% \n",
      "m2w64-gmp-6.1.0      | 726 KB    | ########1  |  82% \n",
      "m2w64-gmp-6.1.0      | 726 KB    | ########5  |  86% \n",
      "m2w64-gmp-6.1.0      | 726 KB    | #########  |  90% \n",
      "m2w64-gmp-6.1.0      | 726 KB    | #########4 |  95% \n",
      "m2w64-gmp-6.1.0      | 726 KB    | ########## | 100% \n",
      "m2w64-gmp-6.1.0      | 726 KB    | ########## | 100% \n",
      "\n",
      "m2w64-gcc-libs-core- | 214 KB    |            |   0% \n",
      "m2w64-gcc-libs-core- | 214 KB    | 7          |   7% \n",
      "m2w64-gcc-libs-core- | 214 KB    | ##2        |  22% \n",
      "m2w64-gcc-libs-core- | 214 KB    | ###7       |  37% \n",
      "m2w64-gcc-libs-core- | 214 KB    | #####2     |  52% \n",
      "m2w64-gcc-libs-core- | 214 KB    | ######7    |  67% \n",
      "m2w64-gcc-libs-core- | 214 KB    | ########2  |  82% \n",
      "m2w64-gcc-libs-core- | 214 KB    | ########## | 100% \n",
      "m2w64-gcc-libs-core- | 214 KB    | ########## | 100% \n",
      "\n",
      "m2-msys2-runtime-2.5 | 3.0 MB    |            |   0% \n",
      "m2-msys2-runtime-2.5 | 3.0 MB    |            |   1% \n",
      "m2-msys2-runtime-2.5 | 3.0 MB    | 1          |   2% \n",
      "m2-msys2-runtime-2.5 | 3.0 MB    | 2          |   3% \n",
      "m2-msys2-runtime-2.5 | 3.0 MB    | 3          |   4% \n",
      "m2-msys2-runtime-2.5 | 3.0 MB    | 4          |   5% \n",
      "m2-msys2-runtime-2.5 | 3.0 MB    | 5          |   6% \n",
      "m2-msys2-runtime-2.5 | 3.0 MB    | 6          |   7% \n",
      "m2-msys2-runtime-2.5 | 3.0 MB    | 7          |   8% \n",
      "m2-msys2-runtime-2.5 | 3.0 MB    | 8          |   9% \n",
      "m2-msys2-runtime-2.5 | 3.0 MB    | 9          |  10% \n",
      "m2-msys2-runtime-2.5 | 3.0 MB    | #          |  11% \n",
      "m2-msys2-runtime-2.5 | 3.0 MB    | #2         |  12% \n",
      "m2-msys2-runtime-2.5 | 3.0 MB    | #3         |  13% \n",
      "m2-msys2-runtime-2.5 | 3.0 MB    | #4         |  14% \n",
      "m2-msys2-runtime-2.5 | 3.0 MB    | #5         |  16% \n",
      "m2-msys2-runtime-2.5 | 3.0 MB    | #7         |  17% \n",
      "m2-msys2-runtime-2.5 | 3.0 MB    | #8         |  19% \n",
      "m2-msys2-runtime-2.5 | 3.0 MB    | ##         |  20% \n",
      "m2-msys2-runtime-2.5 | 3.0 MB    | ##2        |  22% \n",
      "m2-msys2-runtime-2.5 | 3.0 MB    | ##4        |  24% \n",
      "m2-msys2-runtime-2.5 | 3.0 MB    | ##5        |  26% \n",
      "m2-msys2-runtime-2.5 | 3.0 MB    | ##7        |  27% \n",
      "m2-msys2-runtime-2.5 | 3.0 MB    | ##9        |  30% \n",
      "m2-msys2-runtime-2.5 | 3.0 MB    | ###1       |  32% \n",
      "m2-msys2-runtime-2.5 | 3.0 MB    | ###3       |  33% \n",
      "m2-msys2-runtime-2.5 | 3.0 MB    | ###5       |  35% \n",
      "m2-msys2-runtime-2.5 | 3.0 MB    | ###7       |  37% \n",
      "m2-msys2-runtime-2.5 | 3.0 MB    | ####       |  40% \n",
      "m2-msys2-runtime-2.5 | 3.0 MB    | ####6      |  47% \n",
      "m2-msys2-runtime-2.5 | 3.0 MB    | ####9      |  49% \n",
      "m2-msys2-runtime-2.5 | 3.0 MB    | #####1     |  51% \n",
      "m2-msys2-runtime-2.5 | 3.0 MB    | #####3     |  54% \n",
      "m2-msys2-runtime-2.5 | 3.0 MB    | #####8     |  58% \n",
      "m2-msys2-runtime-2.5 | 3.0 MB    | ######     |  60% \n",
      "m2-msys2-runtime-2.5 | 3.0 MB    | ######2    |  62% \n",
      "m2-msys2-runtime-2.5 | 3.0 MB    | ######3    |  64% \n",
      "m2-msys2-runtime-2.5 | 3.0 MB    | ######5    |  65% \n",
      "m2-msys2-runtime-2.5 | 3.0 MB    | ######9    |  69% \n",
      "m2-msys2-runtime-2.5 | 3.0 MB    | #######1   |  71% \n",
      "m2-msys2-runtime-2.5 | 3.0 MB    | #######3   |  73% \n",
      "m2-msys2-runtime-2.5 | 3.0 MB    | #######4   |  75% \n",
      "m2-msys2-runtime-2.5 | 3.0 MB    | #######6   |  76% \n",
      "m2-msys2-runtime-2.5 | 3.0 MB    | #######7   |  78% \n",
      "m2-msys2-runtime-2.5 | 3.0 MB    | #######9   |  80% \n",
      "m2-msys2-runtime-2.5 | 3.0 MB    | ########1  |  81% \n",
      "m2-msys2-runtime-2.5 | 3.0 MB    | ########2  |  83% \n",
      "m2-msys2-runtime-2.5 | 3.0 MB    | ########4  |  84% \n",
      "m2-msys2-runtime-2.5 | 3.0 MB    | ########7  |  87% \n",
      "m2-msys2-runtime-2.5 | 3.0 MB    | ########9  |  89% \n",
      "m2-msys2-runtime-2.5 | 3.0 MB    | #########1 |  92% \n",
      "m2-msys2-runtime-2.5 | 3.0 MB    | #########3 |  93% \n",
      "m2-msys2-runtime-2.5 | 3.0 MB    | #########4 |  95% \n",
      "m2-msys2-runtime-2.5 | 3.0 MB    | #########6 |  96% \n",
      "m2-msys2-runtime-2.5 | 3.0 MB    | #########7 |  98% \n",
      "m2-msys2-runtime-2.5 | 3.0 MB    | #########9 |  99% \n",
      "m2-msys2-runtime-2.5 | 3.0 MB    | ########## | 100% \n",
      "\n",
      "m2-patch-2.7.5       | 90 KB     |            |   0% \n",
      "m2-patch-2.7.5       | 90 KB     | #7         |  18% \n",
      "m2-patch-2.7.5       | 90 KB     | ########8  |  89% \n",
      "m2-patch-2.7.5       | 90 KB     | ########## | 100% \n",
      "\n",
      "ripgrep-13.0.0       | 1.6 MB    |            |   0% \n",
      "ripgrep-13.0.0       | 1.6 MB    |            |   1% \n",
      "ripgrep-13.0.0       | 1.6 MB    | 2          |   3% \n",
      "ripgrep-13.0.0       | 1.6 MB    | 7          |   8% \n",
      "ripgrep-13.0.0       | 1.6 MB    | #          |  11% \n",
      "ripgrep-13.0.0       | 1.6 MB    | #3         |  14% \n",
      "ripgrep-13.0.0       | 1.6 MB    | #6         |  16% \n",
      "ripgrep-13.0.0       | 1.6 MB    | #9         |  19% \n",
      "ripgrep-13.0.0       | 1.6 MB    | ##2        |  22% \n",
      "ripgrep-13.0.0       | 1.6 MB    | ##6        |  26% \n",
      "ripgrep-13.0.0       | 1.6 MB    | ##8        |  29% \n",
      "ripgrep-13.0.0       | 1.6 MB    | ###1       |  32% \n",
      "ripgrep-13.0.0       | 1.6 MB    | ###4       |  35% \n",
      "ripgrep-13.0.0       | 1.6 MB    | ###9       |  40% \n",
      "ripgrep-13.0.0       | 1.6 MB    | ####2      |  42% \n",
      "ripgrep-13.0.0       | 1.6 MB    | ####5      |  45% \n",
      "ripgrep-13.0.0       | 1.6 MB    | ####8      |  48% \n",
      "ripgrep-13.0.0       | 1.6 MB    | #####3     |  53% \n",
      "ripgrep-13.0.0       | 1.6 MB    | #####5     |  56% \n",
      "ripgrep-13.0.0       | 1.6 MB    | ######3    |  64% \n",
      "ripgrep-13.0.0       | 1.6 MB    | ######7    |  68% \n",
      "ripgrep-13.0.0       | 1.6 MB    | #######3   |  73% \n",
      "ripgrep-13.0.0       | 1.6 MB    | #######7   |  77% \n",
      "ripgrep-13.0.0       | 1.6 MB    | ########4  |  85% \n",
      "ripgrep-13.0.0       | 1.6 MB    | ########8  |  89% \n",
      "ripgrep-13.0.0       | 1.6 MB    | #########2 |  93% \n",
      "ripgrep-13.0.0       | 1.6 MB    | #########6 |  97% \n",
      "ripgrep-13.0.0       | 1.6 MB    | #########9 |  99% \n",
      "ripgrep-13.0.0       | 1.6 MB    | ########## | 100% \n",
      "\n",
      "altair-4.2.0         | 711 KB    |            |   0% \n",
      "altair-4.2.0         | 711 KB    | 2          |   2% \n",
      "altair-4.2.0         | 711 KB    | 6          |   7% \n",
      "altair-4.2.0         | 711 KB    | #5         |  16% \n",
      "altair-4.2.0         | 711 KB    | ##2        |  23% \n",
      "altair-4.2.0         | 711 KB    | ###1       |  32% \n",
      "altair-4.2.0         | 711 KB    | ###8       |  38% \n",
      "altair-4.2.0         | 711 KB    | ####7      |  47% \n",
      "altair-4.2.0         | 711 KB    | #####4     |  54% \n",
      "altair-4.2.0         | 711 KB    | ######     |  61% \n",
      "altair-4.2.0         | 711 KB    | ######7    |  68% \n",
      "altair-4.2.0         | 711 KB    | #######4   |  74% \n",
      "altair-4.2.0         | 711 KB    | ########1  |  81% \n",
      "altair-4.2.0         | 711 KB    | ########7  |  88% \n",
      "altair-4.2.0         | 711 KB    | #########4 |  95% \n",
      "altair-4.2.0         | 711 KB    | ########## | 100% \n",
      "altair-4.2.0         | 711 KB    | ########## | 100% \n",
      "\n",
      "branca-0.5.0         | 26 KB     |            |   0% \n",
      "branca-0.5.0         | 26 KB     | ######     |  61% \n",
      "branca-0.5.0         | 26 KB     | ########## | 100% \n",
      "branca-0.5.0         | 26 KB     | ########## | 100% \n",
      "\n",
      "m2w64-gcc-libgfortra | 342 KB    |            |   0% \n",
      "m2w64-gcc-libgfortra | 342 KB    | 4          |   5% \n",
      "m2w64-gcc-libgfortra | 342 KB    | #4         |  14% \n",
      "m2w64-gcc-libgfortra | 342 KB    | ##3        |  23% \n",
      "m2w64-gcc-libgfortra | 342 KB    | ###2       |  33% \n",
      "m2w64-gcc-libgfortra | 342 KB    | ####2      |  42% \n",
      "m2w64-gcc-libgfortra | 342 KB    | #####1     |  51% \n",
      "m2w64-gcc-libgfortra | 342 KB    | ######     |  61% \n",
      "m2w64-gcc-libgfortra | 342 KB    | #######9   |  79% \n",
      "m2w64-gcc-libgfortra | 342 KB    | #########8 |  98% \n",
      "m2w64-gcc-libgfortra | 342 KB    | ########## | 100% \n",
      "Preparing transaction: ...working... done\n",
      "Verifying transaction: ...working... done\n",
      "Executing transaction: ...working... done\n",
      "Folium installed and imported!\n"
     ]
    }
   ],
   "source": [
    "!conda install -c conda-forge folium=0.5.0 --yes\n",
    "import folium\n",
    "print('Folium installed and imported!')"
   ]
  },
  {
   "cell_type": "code",
   "execution_count": 72,
   "id": "4a27ac1b",
   "metadata": {},
   "outputs": [],
   "source": [
    "Ugandan_map = folium.Map(location=[1.3733,32.2903], zoom_start=4)"
   ]
  },
  {
   "cell_type": "markdown",
   "id": "1334d63a",
   "metadata": {},
   "source": [
    "#### i) Kampala"
   ]
  },
  {
   "cell_type": "code",
   "execution_count": 67,
   "id": "ff723ad5",
   "metadata": {},
   "outputs": [
    {
     "data": {
      "text/plain": [
       "<folium.map.FeatureGroup at 0x24c362936d0>"
      ]
     },
     "execution_count": 67,
     "metadata": {},
     "output_type": "execute_result"
    }
   ],
   "source": [
    "Kampala = folium.map.FeatureGroup()\n",
    "Kampala.add_child(folium.features.CircleMarker([0.3476,32.5825], radius=5,color=\"red\",fill_color=\"red\"))\n",
    "Ugandan_map.add_child(Kampala)\n",
    "folium.Marker([0.3476,32.5825],popup=\"Kampala\").add_to(Ugandan_map)"
   ]
  },
  {
   "cell_type": "markdown",
   "id": "12992ff8",
   "metadata": {},
   "source": [
    "#### ii) Jinja"
   ]
  },
  {
   "cell_type": "code",
   "execution_count": 68,
   "id": "9350fb1e",
   "metadata": {},
   "outputs": [
    {
     "data": {
      "text/plain": [
       "<folium.map.Marker at 0x24c362d9f70>"
      ]
     },
     "execution_count": 68,
     "metadata": {},
     "output_type": "execute_result"
    }
   ],
   "source": [
    "jinja = folium.map.FeatureGroup()\n",
    "jinja.add_child(folium.features.CircleMarker([0.4479,33.2026], radius=5,color=\"red\",fill_color=\"red\"))\n",
    "Ugandan_map.add_child(jinja)\n",
    "folium.Marker([0.4479,33.2026],popup=\"Jinja\").add_to(Ugandan_map)"
   ]
  },
  {
   "cell_type": "markdown",
   "id": "46721d3a",
   "metadata": {},
   "source": [
    "#### iii) Gulu"
   ]
  },
  {
   "cell_type": "code",
   "execution_count": 69,
   "id": "9d9b4c37",
   "metadata": {},
   "outputs": [
    {
     "data": {
      "text/plain": [
       "<folium.map.Marker at 0x24c36235a00>"
      ]
     },
     "execution_count": 69,
     "metadata": {},
     "output_type": "execute_result"
    }
   ],
   "source": [
    "gulu = folium.map.FeatureGroup()\n",
    "gulu.add_child(folium.features.CircleMarker([2.7724,32.28816], radius=5,color=\"red\",fill_color=\"red\"))\n",
    "Ugandan_map.add_child(gulu)\n",
    "folium.Marker([2.7724,32.2881],popup=\"Gulu\").add_to(Ugandan_map)"
   ]
  },
  {
   "cell_type": "markdown",
   "id": "e6ab4fb7",
   "metadata": {},
   "source": [
    "#### iv) Mbarara"
   ]
  },
  {
   "cell_type": "code",
   "execution_count": 70,
   "id": "0682b233",
   "metadata": {},
   "outputs": [
    {
     "data": {
      "text/plain": [
       "<folium.map.Marker at 0x24c35b850d0>"
      ]
     },
     "execution_count": 70,
     "metadata": {},
     "output_type": "execute_result"
    }
   ],
   "source": [
    "mbarara = folium.map.FeatureGroup()\n",
    "mbarara.add_child(folium.features.CircleMarker([0.6072,30.6545], radius=5,color=\"red\",fill_color=\"red\"))\n",
    "Ugandan_map.add_child(mbarara)\n",
    "folium.Marker([0.6072,30.6545],popup=\"Mbarara\").add_to(Ugandan_map)"
   ]
  },
  {
   "cell_type": "code",
   "execution_count": 71,
   "id": "0acfa922",
   "metadata": {},
   "outputs": [
    {
     "data": {
      "text/html": [
       "<div style=\"width:100%;\"><div style=\"position:relative;width:100%;height:0;padding-bottom:60%;\"><span style=\"color:#565656\">Make this Notebook Trusted to load map: File -> Trust Notebook</span><iframe srcdoc=\"&lt;!DOCTYPE html&gt;\n",
       "&lt;head&gt;    \n",
       "    &lt;meta http-equiv=&quot;content-type&quot; content=&quot;text/html; charset=UTF-8&quot; /&gt;\n",
       "    &lt;script&gt;L_PREFER_CANVAS = false; L_NO_TOUCH = false; L_DISABLE_3D = false;&lt;/script&gt;\n",
       "    &lt;script src=&quot;https://cdn.jsdelivr.net/npm/leaflet@1.2.0/dist/leaflet.js&quot;&gt;&lt;/script&gt;\n",
       "    &lt;script src=&quot;https://ajax.googleapis.com/ajax/libs/jquery/1.11.1/jquery.min.js&quot;&gt;&lt;/script&gt;\n",
       "    &lt;script src=&quot;https://maxcdn.bootstrapcdn.com/bootstrap/3.2.0/js/bootstrap.min.js&quot;&gt;&lt;/script&gt;\n",
       "    &lt;script src=&quot;https://cdnjs.cloudflare.com/ajax/libs/Leaflet.awesome-markers/2.0.2/leaflet.awesome-markers.js&quot;&gt;&lt;/script&gt;\n",
       "    &lt;link rel=&quot;stylesheet&quot; href=&quot;https://cdn.jsdelivr.net/npm/leaflet@1.2.0/dist/leaflet.css&quot;/&gt;\n",
       "    &lt;link rel=&quot;stylesheet&quot; href=&quot;https://maxcdn.bootstrapcdn.com/bootstrap/3.2.0/css/bootstrap.min.css&quot;/&gt;\n",
       "    &lt;link rel=&quot;stylesheet&quot; href=&quot;https://maxcdn.bootstrapcdn.com/bootstrap/3.2.0/css/bootstrap-theme.min.css&quot;/&gt;\n",
       "    &lt;link rel=&quot;stylesheet&quot; href=&quot;https://maxcdn.bootstrapcdn.com/font-awesome/4.6.3/css/font-awesome.min.css&quot;/&gt;\n",
       "    &lt;link rel=&quot;stylesheet&quot; href=&quot;https://cdnjs.cloudflare.com/ajax/libs/Leaflet.awesome-markers/2.0.2/leaflet.awesome-markers.css&quot;/&gt;\n",
       "    &lt;link rel=&quot;stylesheet&quot; href=&quot;https://rawgit.com/python-visualization/folium/master/folium/templates/leaflet.awesome.rotate.css&quot;/&gt;\n",
       "    &lt;style&gt;html, body {width: 100%;height: 100%;margin: 0;padding: 0;}&lt;/style&gt;\n",
       "    &lt;style&gt;#map {position:absolute;top:0;bottom:0;right:0;left:0;}&lt;/style&gt;\n",
       "    \n",
       "            &lt;style&gt; #map_dea067746d90fa38500ade03a9d9b22f {\n",
       "                position : relative;\n",
       "                width : 100.0%;\n",
       "                height: 100.0%;\n",
       "                left: 0.0%;\n",
       "                top: 0.0%;\n",
       "                }\n",
       "            &lt;/style&gt;\n",
       "        \n",
       "&lt;/head&gt;\n",
       "&lt;body&gt;    \n",
       "    \n",
       "            &lt;div class=&quot;folium-map&quot; id=&quot;map_dea067746d90fa38500ade03a9d9b22f&quot; &gt;&lt;/div&gt;\n",
       "        \n",
       "&lt;/body&gt;\n",
       "&lt;script&gt;    \n",
       "    \n",
       "\n",
       "            \n",
       "                var bounds = null;\n",
       "            \n",
       "\n",
       "            var map_dea067746d90fa38500ade03a9d9b22f = L.map(\n",
       "                                  &#x27;map_dea067746d90fa38500ade03a9d9b22f&#x27;,\n",
       "                                  {center: [1.3733,32.2903],\n",
       "                                  zoom: 4,\n",
       "                                  maxBounds: bounds,\n",
       "                                  layers: [],\n",
       "                                  worldCopyJump: false,\n",
       "                                  crs: L.CRS.EPSG3857\n",
       "                                 });\n",
       "            \n",
       "        \n",
       "    \n",
       "            var tile_layer_dc8c7cec82724f4a33b9537c4d6bb44b = L.tileLayer(\n",
       "                &#x27;https://{s}.tile.openstreetmap.org/{z}/{x}/{y}.png&#x27;,\n",
       "                {\n",
       "  &quot;attribution&quot;: null,\n",
       "  &quot;detectRetina&quot;: false,\n",
       "  &quot;maxZoom&quot;: 18,\n",
       "  &quot;minZoom&quot;: 1,\n",
       "  &quot;noWrap&quot;: false,\n",
       "  &quot;subdomains&quot;: &quot;abc&quot;\n",
       "}\n",
       "                ).addTo(map_dea067746d90fa38500ade03a9d9b22f);\n",
       "        \n",
       "    \n",
       "            var feature_group_6c60cbd8b54fac677b3740ddc46dd3ac = L.featureGroup(\n",
       "                ).addTo(map_dea067746d90fa38500ade03a9d9b22f);\n",
       "        \n",
       "    \n",
       "            var circle_marker_7f46a81b3a4caff6079a074ad5a54729 = L.circleMarker(\n",
       "                [0.4479,33.2026],\n",
       "                {\n",
       "  &quot;bubblingMouseEvents&quot;: true,\n",
       "  &quot;color&quot;: &quot;red&quot;,\n",
       "  &quot;dashArray&quot;: null,\n",
       "  &quot;dashOffset&quot;: null,\n",
       "  &quot;fill&quot;: false,\n",
       "  &quot;fillColor&quot;: &quot;red&quot;,\n",
       "  &quot;fillOpacity&quot;: 0.2,\n",
       "  &quot;fillRule&quot;: &quot;evenodd&quot;,\n",
       "  &quot;lineCap&quot;: &quot;round&quot;,\n",
       "  &quot;lineJoin&quot;: &quot;round&quot;,\n",
       "  &quot;opacity&quot;: 1.0,\n",
       "  &quot;radius&quot;: 5,\n",
       "  &quot;stroke&quot;: true,\n",
       "  &quot;weight&quot;: 3\n",
       "}\n",
       "                ).addTo(feature_group_6c60cbd8b54fac677b3740ddc46dd3ac);\n",
       "            \n",
       "    \n",
       "\n",
       "            var marker_dc2e96e7faa4f74513b428c44f26fc0f = L.marker(\n",
       "                [0.4479,33.2026],\n",
       "                {\n",
       "                    icon: new L.Icon.Default()\n",
       "                    }\n",
       "                )\n",
       "                .addTo(map_dea067746d90fa38500ade03a9d9b22f);\n",
       "            \n",
       "    \n",
       "            var popup_61eff9dcf3ef0187f6893614635a1cba = L.popup({maxWidth: &#x27;300&#x27;});\n",
       "\n",
       "            \n",
       "                var html_7c9e3145e678d5589ce7f83f77dd6dce = $(&#x27;&lt;div id=&quot;html_7c9e3145e678d5589ce7f83f77dd6dce&quot; style=&quot;width: 100.0%; height: 100.0%;&quot;&gt;Jinja&lt;/div&gt;&#x27;)[0];\n",
       "                popup_61eff9dcf3ef0187f6893614635a1cba.setContent(html_7c9e3145e678d5589ce7f83f77dd6dce);\n",
       "            \n",
       "\n",
       "            marker_dc2e96e7faa4f74513b428c44f26fc0f.bindPopup(popup_61eff9dcf3ef0187f6893614635a1cba);\n",
       "\n",
       "            \n",
       "        \n",
       "    \n",
       "            var feature_group_3bfabc611390ff0ceb09471246be0f59 = L.featureGroup(\n",
       "                ).addTo(map_dea067746d90fa38500ade03a9d9b22f);\n",
       "        \n",
       "    \n",
       "            var circle_marker_8a1f09033524ab1d77e6ca6ab807b39f = L.circleMarker(\n",
       "                [2.7724,32.28816],\n",
       "                {\n",
       "  &quot;bubblingMouseEvents&quot;: true,\n",
       "  &quot;color&quot;: &quot;red&quot;,\n",
       "  &quot;dashArray&quot;: null,\n",
       "  &quot;dashOffset&quot;: null,\n",
       "  &quot;fill&quot;: false,\n",
       "  &quot;fillColor&quot;: &quot;red&quot;,\n",
       "  &quot;fillOpacity&quot;: 0.2,\n",
       "  &quot;fillRule&quot;: &quot;evenodd&quot;,\n",
       "  &quot;lineCap&quot;: &quot;round&quot;,\n",
       "  &quot;lineJoin&quot;: &quot;round&quot;,\n",
       "  &quot;opacity&quot;: 1.0,\n",
       "  &quot;radius&quot;: 5,\n",
       "  &quot;stroke&quot;: true,\n",
       "  &quot;weight&quot;: 3\n",
       "}\n",
       "                ).addTo(feature_group_3bfabc611390ff0ceb09471246be0f59);\n",
       "            \n",
       "    \n",
       "\n",
       "            var marker_7b7ce8778fe9ec3c636474f18d2a3527 = L.marker(\n",
       "                [2.7724,32.2881],\n",
       "                {\n",
       "                    icon: new L.Icon.Default()\n",
       "                    }\n",
       "                )\n",
       "                .addTo(map_dea067746d90fa38500ade03a9d9b22f);\n",
       "            \n",
       "    \n",
       "            var popup_2e1ea1705b60a8387193d4bfd198258c = L.popup({maxWidth: &#x27;300&#x27;});\n",
       "\n",
       "            \n",
       "                var html_d16e78c277c48b963719e1e754b52399 = $(&#x27;&lt;div id=&quot;html_d16e78c277c48b963719e1e754b52399&quot; style=&quot;width: 100.0%; height: 100.0%;&quot;&gt;Gulu&lt;/div&gt;&#x27;)[0];\n",
       "                popup_2e1ea1705b60a8387193d4bfd198258c.setContent(html_d16e78c277c48b963719e1e754b52399);\n",
       "            \n",
       "\n",
       "            marker_7b7ce8778fe9ec3c636474f18d2a3527.bindPopup(popup_2e1ea1705b60a8387193d4bfd198258c);\n",
       "\n",
       "            \n",
       "        \n",
       "    \n",
       "            var feature_group_a623b770dca6734bcb71dfcfa01cef2f = L.featureGroup(\n",
       "                ).addTo(map_dea067746d90fa38500ade03a9d9b22f);\n",
       "        \n",
       "    \n",
       "            var circle_marker_f87bb02ad87e4eea409e91e6ebf2333a = L.circleMarker(\n",
       "                [0.6072,30.6545],\n",
       "                {\n",
       "  &quot;bubblingMouseEvents&quot;: true,\n",
       "  &quot;color&quot;: &quot;red&quot;,\n",
       "  &quot;dashArray&quot;: null,\n",
       "  &quot;dashOffset&quot;: null,\n",
       "  &quot;fill&quot;: false,\n",
       "  &quot;fillColor&quot;: &quot;red&quot;,\n",
       "  &quot;fillOpacity&quot;: 0.2,\n",
       "  &quot;fillRule&quot;: &quot;evenodd&quot;,\n",
       "  &quot;lineCap&quot;: &quot;round&quot;,\n",
       "  &quot;lineJoin&quot;: &quot;round&quot;,\n",
       "  &quot;opacity&quot;: 1.0,\n",
       "  &quot;radius&quot;: 5,\n",
       "  &quot;stroke&quot;: true,\n",
       "  &quot;weight&quot;: 3\n",
       "}\n",
       "                ).addTo(feature_group_a623b770dca6734bcb71dfcfa01cef2f);\n",
       "            \n",
       "    \n",
       "\n",
       "            var marker_bfae31cb94369e3ca48708d604b495f8 = L.marker(\n",
       "                [0.6072,30.6545],\n",
       "                {\n",
       "                    icon: new L.Icon.Default()\n",
       "                    }\n",
       "                )\n",
       "                .addTo(map_dea067746d90fa38500ade03a9d9b22f);\n",
       "            \n",
       "    \n",
       "            var popup_d3e0d48ba66fc9c16c75285b82a60780 = L.popup({maxWidth: &#x27;300&#x27;});\n",
       "\n",
       "            \n",
       "                var html_a5934eda9dce5142fb98e26d43ff7bfc = $(&#x27;&lt;div id=&quot;html_a5934eda9dce5142fb98e26d43ff7bfc&quot; style=&quot;width: 100.0%; height: 100.0%;&quot;&gt;Mbarara&lt;/div&gt;&#x27;)[0];\n",
       "                popup_d3e0d48ba66fc9c16c75285b82a60780.setContent(html_a5934eda9dce5142fb98e26d43ff7bfc);\n",
       "            \n",
       "\n",
       "            marker_bfae31cb94369e3ca48708d604b495f8.bindPopup(popup_d3e0d48ba66fc9c16c75285b82a60780);\n",
       "\n",
       "            \n",
       "        \n",
       "&lt;/script&gt;\" style=\"position:absolute;width:100%;height:100%;left:0;top:0;border:none !important;\" allowfullscreen webkitallowfullscreen mozallowfullscreen></iframe></div></div>"
      ],
      "text/plain": [
       "<folium.folium.Map at 0x24c362a15e0>"
      ]
     },
     "execution_count": 71,
     "metadata": {},
     "output_type": "execute_result"
    }
   ],
   "source": [
    "Ugandan_map"
   ]
  },
  {
   "cell_type": "markdown",
   "id": "bf69a772",
   "metadata": {},
   "source": [
    "#### Question 4"
   ]
  },
  {
   "cell_type": "code",
   "execution_count": 73,
   "id": "ccbdcf93",
   "metadata": {},
   "outputs": [],
   "source": [
    "def get_concat_h(im1, im2):\n",
    "    #https://note.nkmk.me/en/python-pillow-concat-images/\n",
    "    dst = Image.new('RGB', (im1.width + im2.width, im1.height))\n",
    "    dst.paste(im1, (0, 0))\n",
    "    dst.paste(im2, (im1.width, 0))\n",
    "    return dst"
   ]
  },
  {
   "cell_type": "code",
   "execution_count": 74,
   "id": "2b257f02",
   "metadata": {},
   "outputs": [],
   "source": [
    "my_image = \"exam.jpeg\""
   ]
  },
  {
   "cell_type": "code",
   "execution_count": 75,
   "id": "4ed9fe51",
   "metadata": {},
   "outputs": [
    {
     "data": {
      "text/plain": [
       "'C:\\\\Users\\\\OXIDE_MUSICA'"
      ]
     },
     "execution_count": 75,
     "metadata": {},
     "output_type": "execute_result"
    }
   ],
   "source": [
    "import os\n",
    "cwd = os.getcwd()\n",
    "cwd"
   ]
  },
  {
   "cell_type": "code",
   "execution_count": 76,
   "id": "4bc42884",
   "metadata": {},
   "outputs": [
    {
     "data": {
      "text/plain": [
       "'C:\\\\Users\\\\OXIDE_MUSICA\\\\exam.jpeg'"
      ]
     },
     "execution_count": 76,
     "metadata": {},
     "output_type": "execute_result"
    }
   ],
   "source": [
    "image_path = os.path.join(cwd, my_image)\n",
    "image_path"
   ]
  },
  {
   "cell_type": "code",
   "execution_count": null,
   "id": "5c02ce6c",
   "metadata": {},
   "outputs": [],
   "source": [
    "import cv2"
   ]
  },
  {
   "cell_type": "code",
   "execution_count": null,
   "id": "47fdffda",
   "metadata": {},
   "outputs": [],
   "source": [
    "image = cv2.imread(my_image)"
   ]
  },
  {
   "cell_type": "code",
   "execution_count": null,
   "id": "8b6bc515",
   "metadata": {},
   "outputs": [],
   "source": [
    "type(image)"
   ]
  },
  {
   "cell_type": "code",
   "execution_count": null,
   "id": "d319ea85",
   "metadata": {},
   "outputs": [],
   "source": [
    "image.shape"
   ]
  },
  {
   "cell_type": "code",
   "execution_count": null,
   "id": "d657f805",
   "metadata": {},
   "outputs": [],
   "source": [
    "image.max()"
   ]
  },
  {
   "cell_type": "code",
   "execution_count": null,
   "id": "ff95f504",
   "metadata": {},
   "outputs": [],
   "source": [
    "image.min()"
   ]
  },
  {
   "cell_type": "code",
   "execution_count": null,
   "id": "a3e1cdb2",
   "metadata": {},
   "outputs": [],
   "source": [
    "image_gray = cv2.cvtColor(image, cv2.COLOR_BGR2GRAY)"
   ]
  },
  {
   "cell_type": "code",
   "execution_count": null,
   "id": "78bf9708",
   "metadata": {},
   "outputs": [],
   "source": [
    "image_gray.shape"
   ]
  },
  {
   "cell_type": "code",
   "execution_count": null,
   "id": "a51a4f49",
   "metadata": {},
   "outputs": [],
   "source": [
    "plt.figure(figsize=(10, 10))\n",
    "plt.imshow(image_gray, cmap='gray')\n",
    "plt.show()"
   ]
  },
  {
   "cell_type": "markdown",
   "id": "db9a74d7",
   "metadata": {},
   "source": [
    "## Question 5"
   ]
  },
  {
   "cell_type": "code",
   "execution_count": null,
   "id": "ab3d7c84",
   "metadata": {},
   "outputs": [],
   "source": []
  }
 ],
 "metadata": {
  "kernelspec": {
   "display_name": "Python 3 (ipykernel)",
   "language": "python",
   "name": "python3"
  },
  "language_info": {
   "codemirror_mode": {
    "name": "ipython",
    "version": 3
   },
   "file_extension": ".py",
   "mimetype": "text/x-python",
   "name": "python",
   "nbconvert_exporter": "python",
   "pygments_lexer": "ipython3",
   "version": "3.9.12"
  }
 },
 "nbformat": 4,
 "nbformat_minor": 5
}
