{
 "cells": [
  {
   "cell_type": "markdown",
   "id": "b836095f",
   "metadata": {},
   "source": [
    "# M22.CS 505 Advanced Programming (Assignment 1)"
   ]
  },
  {
   "cell_type": "markdown",
   "id": "7dec7fc7",
   "metadata": {},
   "source": [
    "## Assignment 1 - Python packages - 5th June 2022"
   ]
  },
  {
   "cell_type": "markdown",
   "id": "4e2c816f",
   "metadata": {},
   "source": [
    "### Use other two python packages other than numpy to produce the values of:"
   ]
  },
  {
   "cell_type": "markdown",
   "id": "343cc633",
   "metadata": {},
   "source": [
    "#### 1) pi"
   ]
  },
  {
   "cell_type": "code",
   "execution_count": 1,
   "id": "156a2267",
   "metadata": {},
   "outputs": [
    {
     "name": "stdout",
     "output_type": "stream",
     "text": [
      "3.141592653589793\n",
      "3.141592653589793\n"
     ]
    }
   ],
   "source": [
    "import scipy\n",
    "import math\n",
    "\n",
    "print(scipy.pi)\n",
    "print(math.pi)"
   ]
  },
  {
   "cell_type": "markdown",
   "id": "fe961561",
   "metadata": {},
   "source": [
    "#### 2) e"
   ]
  },
  {
   "cell_type": "code",
   "execution_count": 2,
   "id": "3cccbc78",
   "metadata": {},
   "outputs": [
    {
     "name": "stdout",
     "output_type": "stream",
     "text": [
      "2.718281828459045\n",
      "2.718281828459045\n"
     ]
    }
   ],
   "source": [
    "print(scipy.e)\n",
    "print(math.e)"
   ]
  },
  {
   "cell_type": "markdown",
   "id": "4361de1e",
   "metadata": {},
   "source": [
    "#### 3) cos(0)"
   ]
  },
  {
   "cell_type": "code",
   "execution_count": 8,
   "id": "5f1796f4",
   "metadata": {},
   "outputs": [
    {
     "name": "stdout",
     "output_type": "stream",
     "text": [
      "1.0\n",
      "1.0\n"
     ]
    },
    {
     "name": "stderr",
     "output_type": "stream",
     "text": [
      "C:\\Users\\OXIDE_MUSICA\\AppData\\Local\\Temp\\ipykernel_1764\\3844265971.py:1: DeprecationWarning: scipy.cos is deprecated and will be removed in SciPy 2.0.0, use numpy.cos instead\n",
      "  print(scipy.cos(0))\n"
     ]
    }
   ],
   "source": [
    "print(scipy.cos(0))\n",
    "print(math.cos(0))"
   ]
  },
  {
   "cell_type": "markdown",
   "id": "b1478f82",
   "metadata": {},
   "source": [
    "#### 4) tan(45)"
   ]
  },
  {
   "cell_type": "code",
   "execution_count": 9,
   "id": "ebcb0575",
   "metadata": {},
   "outputs": [
    {
     "name": "stdout",
     "output_type": "stream",
     "text": [
      "1.6197751905438615\n",
      "1.6197751905438615\n"
     ]
    },
    {
     "name": "stderr",
     "output_type": "stream",
     "text": [
      "C:\\Users\\OXIDE_MUSICA\\AppData\\Local\\Temp\\ipykernel_1764\\1968655030.py:1: DeprecationWarning: scipy.tan is deprecated and will be removed in SciPy 2.0.0, use numpy.tan instead\n",
      "  print(scipy.tan(45))\n"
     ]
    }
   ],
   "source": [
    "print(scipy.tan(45))\n",
    "print(math.tan(45))"
   ]
  },
  {
   "cell_type": "code",
   "execution_count": null,
   "id": "398d6bf1",
   "metadata": {},
   "outputs": [],
   "source": []
  }
 ],
 "metadata": {
  "kernelspec": {
   "display_name": "Python 3 (ipykernel)",
   "language": "python",
   "name": "python3"
  },
  "language_info": {
   "codemirror_mode": {
    "name": "ipython",
    "version": 3
   },
   "file_extension": ".py",
   "mimetype": "text/x-python",
   "name": "python",
   "nbconvert_exporter": "python",
   "pygments_lexer": "ipython3",
   "version": "3.9.12"
  }
 },
 "nbformat": 4,
 "nbformat_minor": 5
}
