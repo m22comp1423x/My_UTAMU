{
 "cells": [
  {
   "cell_type": "code",
   "execution_count": 61,
   "id": "7f47819c",
   "metadata": {},
   "outputs": [],
   "source": [
    "import lxml.html as lh\n",
    "import pandas as pd\n",
    "import numpy as np\n",
    "import requests\n",
    "import warnings\n",
    "warnings.filterwarnings('ignore')"
   ]
  },
  {
   "cell_type": "code",
   "execution_count": 62,
   "id": "a94ee3f2",
   "metadata": {},
   "outputs": [
    {
     "data": {
      "text/plain": [
       "[1, 1, 13, 13, 13, 13, 13, 13, 13, 13, 13, 13, 13, 13, 13]"
      ]
     },
     "execution_count": 62,
     "metadata": {},
     "output_type": "execute_result"
    }
   ],
   "source": [
    "covid_data = \"https://www.worldometers.info/world-population/uganda-population/\"\n",
    "page_handler = requests.get(covid_data)\n",
    "doc = lh.fromstring(page_handler.content)\n",
    "tr_elements = doc.xpath('//tr')\n",
    "[len(T) for T in tr_elements[:15]]"
   ]
  },
  {
   "cell_type": "code",
   "execution_count": 63,
   "id": "7d5f0950",
   "metadata": {},
   "outputs": [
    {
     "name": "stdout",
     "output_type": "stream",
     "text": [
      "1:Year\n",
      "2:Population\n",
      "3:Yearly %  Change\n",
      "4:Yearly Change\n",
      "5:Migrants (net)\n",
      "6:Median Age\n",
      "7:Fertility Rate\n",
      "8:Density (P/Km²)\n",
      "9:Urban Pop %\n",
      "10:Urban Population\n",
      "11:Country's Share of World Pop\n",
      "12:World Population\n",
      "13:UgandaGlobal Rank\n"
     ]
    }
   ],
   "source": [
    "tr_elements=doc.xpath('//tr')\n",
    "col = []\n",
    "i = 0\n",
    "for t in tr_elements[2]:\n",
    "    i+=1\n",
    "    name = t.text_content()\n",
    "    print('%d:%s' % (i,name))\n",
    "    col.append((name,[]))"
   ]
  },
  {
   "cell_type": "code",
   "execution_count": 64,
   "id": "0e5c3232",
   "metadata": {},
   "outputs": [],
   "source": [
    "for j in range(3,len(tr_elements)):\n",
    "    T = tr_elements[j]\n",
    "    \n",
    "    if len(T)!=13:\n",
    "        break\n",
    "        \n",
    "    i = 0\n",
    "    \n",
    "    for t in T.iterchildren():\n",
    "        data = t.text_content()\n",
    "        \n",
    "        col[i][1].append(data)\n",
    "        i+=1"
   ]
  },
  {
   "cell_type": "code",
   "execution_count": 65,
   "id": "9c519b6e",
   "metadata": {},
   "outputs": [
    {
     "data": {
      "text/plain": [
       "[19, 19, 19, 19, 19, 19, 19, 19, 19, 19, 19, 19, 19]"
      ]
     },
     "execution_count": 65,
     "metadata": {},
     "output_type": "execute_result"
    }
   ],
   "source": [
    "[len(C) for (title,C) in col]"
   ]
  },
  {
   "cell_type": "code",
   "execution_count": 66,
   "id": "d3290eea",
   "metadata": {},
   "outputs": [
    {
     "data": {
      "text/html": [
       "<div>\n",
       "<style scoped>\n",
       "    .dataframe tbody tr th:only-of-type {\n",
       "        vertical-align: middle;\n",
       "    }\n",
       "\n",
       "    .dataframe tbody tr th {\n",
       "        vertical-align: top;\n",
       "    }\n",
       "\n",
       "    .dataframe thead th {\n",
       "        text-align: right;\n",
       "    }\n",
       "</style>\n",
       "<table border=\"1\" class=\"dataframe\">\n",
       "  <thead>\n",
       "    <tr style=\"text-align: right;\">\n",
       "      <th></th>\n",
       "      <th>Year</th>\n",
       "      <th>Population</th>\n",
       "      <th>Yearly %  Change</th>\n",
       "      <th>Yearly Change</th>\n",
       "      <th>Migrants (net)</th>\n",
       "      <th>Median Age</th>\n",
       "      <th>Fertility Rate</th>\n",
       "      <th>Density (P/Km²)</th>\n",
       "      <th>Urban Pop %</th>\n",
       "      <th>Urban Population</th>\n",
       "      <th>Country's Share of World Pop</th>\n",
       "      <th>World Population</th>\n",
       "      <th>UgandaGlobal Rank</th>\n",
       "    </tr>\n",
       "  </thead>\n",
       "  <tbody>\n",
       "    <tr>\n",
       "      <th>14</th>\n",
       "      <td>1970</td>\n",
       "      <td>9,405,600</td>\n",
       "      <td>3.33 %</td>\n",
       "      <td>283,907</td>\n",
       "      <td>10,001</td>\n",
       "      <td>16.5</td>\n",
       "      <td>7.12</td>\n",
       "      <td>47</td>\n",
       "      <td>6.7 %</td>\n",
       "      <td>629,441</td>\n",
       "      <td>0.25 %</td>\n",
       "      <td>3,700,437,046</td>\n",
       "      <td>56</td>\n",
       "    </tr>\n",
       "    <tr>\n",
       "      <th>15</th>\n",
       "      <td>1965</td>\n",
       "      <td>7,986,066</td>\n",
       "      <td>3.37 %</td>\n",
       "      <td>243,794</td>\n",
       "      <td>25,000</td>\n",
       "      <td>16.8</td>\n",
       "      <td>7.05</td>\n",
       "      <td>40</td>\n",
       "      <td>5.5 %</td>\n",
       "      <td>441,548</td>\n",
       "      <td>0.24 %</td>\n",
       "      <td>3,339,583,597</td>\n",
       "      <td>65</td>\n",
       "    </tr>\n",
       "    <tr>\n",
       "      <th>16</th>\n",
       "      <td>1960</td>\n",
       "      <td>6,767,095</td>\n",
       "      <td>2.82 %</td>\n",
       "      <td>175,660</td>\n",
       "      <td>0</td>\n",
       "      <td>17.1</td>\n",
       "      <td>6.95</td>\n",
       "      <td>34</td>\n",
       "      <td>4.4 %</td>\n",
       "      <td>299,817</td>\n",
       "      <td>0.22 %</td>\n",
       "      <td>3,034,949,748</td>\n",
       "      <td>65</td>\n",
       "    </tr>\n",
       "    <tr>\n",
       "      <th>17</th>\n",
       "      <td>1955</td>\n",
       "      <td>5,888,793</td>\n",
       "      <td>2.68 %</td>\n",
       "      <td>146,121</td>\n",
       "      <td>0</td>\n",
       "      <td>17.8</td>\n",
       "      <td>6.90</td>\n",
       "      <td>29</td>\n",
       "      <td>3.5 %</td>\n",
       "      <td>208,359</td>\n",
       "      <td>0.21 %</td>\n",
       "      <td>2,773,019,936</td>\n",
       "      <td>65</td>\n",
       "    </tr>\n",
       "    <tr>\n",
       "      <th>18</th>\n",
       "      <td>Year</td>\n",
       "      <td>Population</td>\n",
       "      <td>Yearly %  Change</td>\n",
       "      <td>Yearly Change</td>\n",
       "      <td>Migrants (net)</td>\n",
       "      <td>Median Age</td>\n",
       "      <td>Fertility Rate</td>\n",
       "      <td>Density (P/Km²)</td>\n",
       "      <td>Urban Pop %</td>\n",
       "      <td>Urban Population</td>\n",
       "      <td>Country's Share of World Pop</td>\n",
       "      <td>World Population</td>\n",
       "      <td>UgandaGlobal Rank</td>\n",
       "    </tr>\n",
       "  </tbody>\n",
       "</table>\n",
       "</div>"
      ],
      "text/plain": [
       "    Year  Population  Yearly %  Change  Yearly Change  Migrants (net)  \\\n",
       "14  1970   9,405,600            3.33 %        283,907          10,001   \n",
       "15  1965   7,986,066            3.37 %        243,794          25,000   \n",
       "16  1960   6,767,095            2.82 %        175,660               0   \n",
       "17  1955   5,888,793            2.68 %        146,121               0   \n",
       "18  Year  Population  Yearly %  Change  Yearly Change  Migrants (net)   \n",
       "\n",
       "    Median Age  Fertility Rate  Density (P/Km²)  Urban Pop %  \\\n",
       "14        16.5            7.12               47        6.7 %   \n",
       "15        16.8            7.05               40        5.5 %   \n",
       "16        17.1            6.95               34        4.4 %   \n",
       "17        17.8            6.90               29        3.5 %   \n",
       "18  Median Age  Fertility Rate  Density (P/Km²)  Urban Pop %   \n",
       "\n",
       "    Urban Population  Country's Share of World Pop  World Population  \\\n",
       "14           629,441                        0.25 %     3,700,437,046   \n",
       "15           441,548                        0.24 %     3,339,583,597   \n",
       "16           299,817                        0.22 %     3,034,949,748   \n",
       "17           208,359                        0.21 %     2,773,019,936   \n",
       "18  Urban Population  Country's Share of World Pop  World Population   \n",
       "\n",
       "    UgandaGlobal Rank  \n",
       "14                 56  \n",
       "15                 65  \n",
       "16                 65  \n",
       "17                 65  \n",
       "18  UgandaGlobal Rank  "
      ]
     },
     "execution_count": 66,
     "metadata": {},
     "output_type": "execute_result"
    }
   ],
   "source": [
    "Dict = {title:column for (title,column) in col}\n",
    "df = pd.DataFrame(Dict)\n",
    "df.tail()"
   ]
  },
  {
   "cell_type": "code",
   "execution_count": 67,
   "id": "cde3846b",
   "metadata": {},
   "outputs": [
    {
     "data": {
      "text/html": [
       "<div>\n",
       "<style scoped>\n",
       "    .dataframe tbody tr th:only-of-type {\n",
       "        vertical-align: middle;\n",
       "    }\n",
       "\n",
       "    .dataframe tbody tr th {\n",
       "        vertical-align: top;\n",
       "    }\n",
       "\n",
       "    .dataframe thead th {\n",
       "        text-align: right;\n",
       "    }\n",
       "</style>\n",
       "<table border=\"1\" class=\"dataframe\">\n",
       "  <thead>\n",
       "    <tr style=\"text-align: right;\">\n",
       "      <th></th>\n",
       "      <th>Year</th>\n",
       "      <th>Population</th>\n",
       "      <th>Yearly_Change</th>\n",
       "      <th>Migrants</th>\n",
       "      <th>Urban_Population</th>\n",
       "      <th>World_Population</th>\n",
       "    </tr>\n",
       "  </thead>\n",
       "  <tbody>\n",
       "    <tr>\n",
       "      <th>0</th>\n",
       "      <td>2020</td>\n",
       "      <td>45,741,007</td>\n",
       "      <td>1,471,413</td>\n",
       "      <td>168,694</td>\n",
       "      <td>11,775,012</td>\n",
       "      <td>7,794,798,739</td>\n",
       "    </tr>\n",
       "    <tr>\n",
       "      <th>1</th>\n",
       "      <td>2019</td>\n",
       "      <td>44,269,594</td>\n",
       "      <td>1,540,558</td>\n",
       "      <td>168,694</td>\n",
       "      <td>11,135,655</td>\n",
       "      <td>7,713,468,100</td>\n",
       "    </tr>\n",
       "    <tr>\n",
       "      <th>2</th>\n",
       "      <td>2018</td>\n",
       "      <td>42,729,036</td>\n",
       "      <td>1,562,448</td>\n",
       "      <td>168,694</td>\n",
       "      <td>10,525,083</td>\n",
       "      <td>7,631,091,040</td>\n",
       "    </tr>\n",
       "    <tr>\n",
       "      <th>3</th>\n",
       "      <td>2017</td>\n",
       "      <td>41,166,588</td>\n",
       "      <td>1,517,422</td>\n",
       "      <td>168,694</td>\n",
       "      <td>9,942,312</td>\n",
       "      <td>7,547,858,925</td>\n",
       "    </tr>\n",
       "    <tr>\n",
       "      <th>4</th>\n",
       "      <td>2016</td>\n",
       "      <td>39,649,166</td>\n",
       "      <td>1,423,713</td>\n",
       "      <td>168,694</td>\n",
       "      <td>9,386,309</td>\n",
       "      <td>7,464,022,049</td>\n",
       "    </tr>\n",
       "  </tbody>\n",
       "</table>\n",
       "</div>"
      ],
      "text/plain": [
       "   Year  Population Yearly_Change Migrants Urban_Population World_Population\n",
       "0  2020  45,741,007     1,471,413  168,694       11,775,012    7,794,798,739\n",
       "1  2019  44,269,594     1,540,558  168,694       11,135,655    7,713,468,100\n",
       "2  2018  42,729,036     1,562,448  168,694       10,525,083    7,631,091,040\n",
       "3  2017  41,166,588     1,517,422  168,694        9,942,312    7,547,858,925\n",
       "4  2016  39,649,166     1,423,713  168,694        9,386,309    7,464,022,049"
      ]
     },
     "execution_count": 67,
     "metadata": {},
     "output_type": "execute_result"
    }
   ],
   "source": [
    "cdf = df[['Year','Population','Yearly Change','Migrants (net)','Urban Population','World Population']]\n",
    "df1 = cdf.rename(columns = {'Yearly Change': 'Yearly_Change','Migrants (net)':'Migrants','Urban Population': 'Urban_Population','World Population':'World_Population'})\n",
    "df1.head()"
   ]
  },
  {
   "cell_type": "code",
   "execution_count": 68,
   "id": "8e919a46",
   "metadata": {},
   "outputs": [
    {
     "data": {
      "text/html": [
       "<div>\n",
       "<style scoped>\n",
       "    .dataframe tbody tr th:only-of-type {\n",
       "        vertical-align: middle;\n",
       "    }\n",
       "\n",
       "    .dataframe tbody tr th {\n",
       "        vertical-align: top;\n",
       "    }\n",
       "\n",
       "    .dataframe thead th {\n",
       "        text-align: right;\n",
       "    }\n",
       "</style>\n",
       "<table border=\"1\" class=\"dataframe\">\n",
       "  <thead>\n",
       "    <tr style=\"text-align: right;\">\n",
       "      <th></th>\n",
       "      <th>Year</th>\n",
       "      <th>Population</th>\n",
       "      <th>Yearly_Change</th>\n",
       "      <th>Migrants</th>\n",
       "      <th>Urban_Population</th>\n",
       "      <th>World_Population</th>\n",
       "    </tr>\n",
       "  </thead>\n",
       "  <tbody>\n",
       "    <tr>\n",
       "      <th>14</th>\n",
       "      <td>1970</td>\n",
       "      <td>9405600</td>\n",
       "      <td>283907</td>\n",
       "      <td>10001</td>\n",
       "      <td>629441</td>\n",
       "      <td>3700437046</td>\n",
       "    </tr>\n",
       "    <tr>\n",
       "      <th>15</th>\n",
       "      <td>1965</td>\n",
       "      <td>7986066</td>\n",
       "      <td>243794</td>\n",
       "      <td>25000</td>\n",
       "      <td>441548</td>\n",
       "      <td>3339583597</td>\n",
       "    </tr>\n",
       "    <tr>\n",
       "      <th>16</th>\n",
       "      <td>1960</td>\n",
       "      <td>6767095</td>\n",
       "      <td>175660</td>\n",
       "      <td>0</td>\n",
       "      <td>299817</td>\n",
       "      <td>3034949748</td>\n",
       "    </tr>\n",
       "    <tr>\n",
       "      <th>17</th>\n",
       "      <td>1955</td>\n",
       "      <td>5888793</td>\n",
       "      <td>146121</td>\n",
       "      <td>0</td>\n",
       "      <td>208359</td>\n",
       "      <td>2773019936</td>\n",
       "    </tr>\n",
       "    <tr>\n",
       "      <th>18</th>\n",
       "      <td>Year</td>\n",
       "      <td>Population</td>\n",
       "      <td>Yearly Change</td>\n",
       "      <td>Migrants (net)</td>\n",
       "      <td>Urban Population</td>\n",
       "      <td>World Population</td>\n",
       "    </tr>\n",
       "  </tbody>\n",
       "</table>\n",
       "</div>"
      ],
      "text/plain": [
       "    Year  Population  Yearly_Change        Migrants  Urban_Population  \\\n",
       "14  1970     9405600         283907           10001            629441   \n",
       "15  1965     7986066         243794           25000            441548   \n",
       "16  1960     6767095         175660               0            299817   \n",
       "17  1955     5888793         146121               0            208359   \n",
       "18  Year  Population  Yearly Change  Migrants (net)  Urban Population   \n",
       "\n",
       "    World_Population  \n",
       "14        3700437046  \n",
       "15        3339583597  \n",
       "16        3034949748  \n",
       "17        2773019936  \n",
       "18  World Population  "
      ]
     },
     "execution_count": 68,
     "metadata": {},
     "output_type": "execute_result"
    }
   ],
   "source": [
    "df1 = df1.replace('\\+', '', regex=True)\n",
    "df1 = df1.replace(',', '', regex=True)\n",
    "df1.tail()"
   ]
  },
  {
   "cell_type": "code",
   "execution_count": 69,
   "id": "7bbd795b",
   "metadata": {},
   "outputs": [],
   "source": [
    "df1 = df1[df1['Yearly_Change'] != 'Yearly Change']"
   ]
  },
  {
   "cell_type": "code",
   "execution_count": 70,
   "id": "121b382f",
   "metadata": {},
   "outputs": [],
   "source": [
    "df1[\"Population\"] = pd.to_numeric(df1[\"Population\"], errors='ignore')\n",
    "df1[\"Year\"] = pd.to_numeric(df1[\"Year\"], errors='ignore')\n",
    "df1[\"Yearly_Change\"] = pd.to_numeric(df1[\"Yearly_Change\"], errors='ignore')\n",
    "df1[\"Urban_Population\"] = pd.to_numeric(df1[\"Urban_Population\"], errors='ignore')\n",
    "df1[\"World_Population\"] = pd.to_numeric(df1[\"World_Population\"], errors='ignore')"
   ]
  },
  {
   "cell_type": "code",
   "execution_count": 71,
   "id": "028b2cec",
   "metadata": {},
   "outputs": [
    {
     "data": {
      "text/html": [
       "<div>\n",
       "<style scoped>\n",
       "    .dataframe tbody tr th:only-of-type {\n",
       "        vertical-align: middle;\n",
       "    }\n",
       "\n",
       "    .dataframe tbody tr th {\n",
       "        vertical-align: top;\n",
       "    }\n",
       "\n",
       "    .dataframe thead th {\n",
       "        text-align: right;\n",
       "    }\n",
       "</style>\n",
       "<table border=\"1\" class=\"dataframe\">\n",
       "  <thead>\n",
       "    <tr style=\"text-align: right;\">\n",
       "      <th></th>\n",
       "      <th>Year</th>\n",
       "      <th>Population</th>\n",
       "      <th>Yearly_Change</th>\n",
       "      <th>Migrants</th>\n",
       "      <th>Urban_Population</th>\n",
       "      <th>World_Population</th>\n",
       "    </tr>\n",
       "  </thead>\n",
       "  <tbody>\n",
       "    <tr>\n",
       "      <th>13</th>\n",
       "      <td>1975</td>\n",
       "      <td>10737403</td>\n",
       "      <td>266361</td>\n",
       "      <td>-55222</td>\n",
       "      <td>762275</td>\n",
       "      <td>4079480606</td>\n",
       "    </tr>\n",
       "    <tr>\n",
       "      <th>14</th>\n",
       "      <td>1970</td>\n",
       "      <td>9405600</td>\n",
       "      <td>283907</td>\n",
       "      <td>10001</td>\n",
       "      <td>629441</td>\n",
       "      <td>3700437046</td>\n",
       "    </tr>\n",
       "    <tr>\n",
       "      <th>15</th>\n",
       "      <td>1965</td>\n",
       "      <td>7986066</td>\n",
       "      <td>243794</td>\n",
       "      <td>25000</td>\n",
       "      <td>441548</td>\n",
       "      <td>3339583597</td>\n",
       "    </tr>\n",
       "    <tr>\n",
       "      <th>16</th>\n",
       "      <td>1960</td>\n",
       "      <td>6767095</td>\n",
       "      <td>175660</td>\n",
       "      <td>0</td>\n",
       "      <td>299817</td>\n",
       "      <td>3034949748</td>\n",
       "    </tr>\n",
       "    <tr>\n",
       "      <th>17</th>\n",
       "      <td>1955</td>\n",
       "      <td>5888793</td>\n",
       "      <td>146121</td>\n",
       "      <td>0</td>\n",
       "      <td>208359</td>\n",
       "      <td>2773019936</td>\n",
       "    </tr>\n",
       "  </tbody>\n",
       "</table>\n",
       "</div>"
      ],
      "text/plain": [
       "    Year  Population  Yearly_Change Migrants  Urban_Population  \\\n",
       "13  1975    10737403         266361   -55222            762275   \n",
       "14  1970     9405600         283907    10001            629441   \n",
       "15  1965     7986066         243794    25000            441548   \n",
       "16  1960     6767095         175660        0            299817   \n",
       "17  1955     5888793         146121        0            208359   \n",
       "\n",
       "    World_Population  \n",
       "13        4079480606  \n",
       "14        3700437046  \n",
       "15        3339583597  \n",
       "16        3034949748  \n",
       "17        2773019936  "
      ]
     },
     "execution_count": 71,
     "metadata": {},
     "output_type": "execute_result"
    }
   ],
   "source": [
    "df1.tail()"
   ]
  },
  {
   "cell_type": "code",
   "execution_count": 72,
   "id": "222aba6f",
   "metadata": {},
   "outputs": [],
   "source": [
    "maximum = df1.max()"
   ]
  },
  {
   "cell_type": "code",
   "execution_count": 73,
   "id": "cea22291",
   "metadata": {},
   "outputs": [
    {
     "data": {
      "text/plain": [
       "Year                      2020\n",
       "Population            45741007\n",
       "Yearly_Change          1562448\n",
       "Migrants                 40000\n",
       "Urban_Population      11775012\n",
       "World_Population    7794798739\n",
       "dtype: object"
      ]
     },
     "execution_count": 73,
     "metadata": {},
     "output_type": "execute_result"
    }
   ],
   "source": [
    "maximum"
   ]
  },
  {
   "cell_type": "markdown",
   "id": "117576fb",
   "metadata": {},
   "source": [
    "### Minimum computation"
   ]
  },
  {
   "cell_type": "code",
   "execution_count": 74,
   "id": "212ca750",
   "metadata": {},
   "outputs": [],
   "source": [
    "minimum = df1.min()"
   ]
  },
  {
   "cell_type": "code",
   "execution_count": 75,
   "id": "3a3bf4d7",
   "metadata": {},
   "outputs": [
    {
     "data": {
      "text/plain": [
       "Year                      1955\n",
       "Population             5888793\n",
       "Yearly_Change           146121\n",
       "Migrants               -100000\n",
       "Urban_Population        208359\n",
       "World_Population    2773019936\n",
       "dtype: object"
      ]
     },
     "execution_count": 75,
     "metadata": {},
     "output_type": "execute_result"
    }
   ],
   "source": [
    "minimum"
   ]
  },
  {
   "cell_type": "markdown",
   "id": "1d896e2c",
   "metadata": {},
   "source": [
    "### Mean computation"
   ]
  },
  {
   "cell_type": "code",
   "execution_count": 76,
   "id": "1c5245ad",
   "metadata": {},
   "outputs": [],
   "source": [
    "df_mean = df1.mean()"
   ]
  },
  {
   "cell_type": "code",
   "execution_count": 77,
   "id": "08682c53",
   "metadata": {},
   "outputs": [
    {
     "data": {
      "text/plain": [
       "Year                1.994167e+03\n",
       "Population          2.450544e+07\n",
       "Yearly_Change       7.849448e+05\n",
       "Urban_Population    4.766008e+06\n",
       "World_Population    5.694506e+09\n",
       "dtype: float64"
      ]
     },
     "execution_count": 77,
     "metadata": {},
     "output_type": "execute_result"
    }
   ],
   "source": [
    "df_mean"
   ]
  },
  {
   "cell_type": "markdown",
   "id": "17f7e93b",
   "metadata": {},
   "source": [
    "### Standard deviation computation"
   ]
  },
  {
   "cell_type": "code",
   "execution_count": 78,
   "id": "4240ba86",
   "metadata": {},
   "outputs": [],
   "source": [
    "standard_deviation = df1.std()"
   ]
  },
  {
   "cell_type": "code",
   "execution_count": 79,
   "id": "277e9fd5",
   "metadata": {},
   "outputs": [
    {
     "data": {
      "text/plain": [
       "Year                2.235081e+01\n",
       "Population          1.456517e+07\n",
       "Yearly_Change       5.301897e+05\n",
       "Urban_Population    4.365120e+06\n",
       "World_Population    1.786229e+09\n",
       "dtype: float64"
      ]
     },
     "execution_count": 79,
     "metadata": {},
     "output_type": "execute_result"
    }
   ],
   "source": [
    "standard_deviation"
   ]
  },
  {
   "cell_type": "markdown",
   "id": "c2108c73",
   "metadata": {},
   "source": [
    "### Correlation between features"
   ]
  },
  {
   "cell_type": "code",
   "execution_count": 80,
   "id": "909e224d",
   "metadata": {},
   "outputs": [],
   "source": [
    "correlation = df1.corr()"
   ]
  },
  {
   "cell_type": "code",
   "execution_count": 81,
   "id": "ccdcdebe",
   "metadata": {},
   "outputs": [
    {
     "data": {
      "text/html": [
       "<div>\n",
       "<style scoped>\n",
       "    .dataframe tbody tr th:only-of-type {\n",
       "        vertical-align: middle;\n",
       "    }\n",
       "\n",
       "    .dataframe tbody tr th {\n",
       "        vertical-align: top;\n",
       "    }\n",
       "\n",
       "    .dataframe thead th {\n",
       "        text-align: right;\n",
       "    }\n",
       "</style>\n",
       "<table border=\"1\" class=\"dataframe\">\n",
       "  <thead>\n",
       "    <tr style=\"text-align: right;\">\n",
       "      <th></th>\n",
       "      <th>Year</th>\n",
       "      <th>Population</th>\n",
       "      <th>Yearly_Change</th>\n",
       "      <th>Urban_Population</th>\n",
       "      <th>World_Population</th>\n",
       "    </tr>\n",
       "  </thead>\n",
       "  <tbody>\n",
       "    <tr>\n",
       "      <th>Year</th>\n",
       "      <td>1.000000</td>\n",
       "      <td>0.968480</td>\n",
       "      <td>0.941166</td>\n",
       "      <td>0.924069</td>\n",
       "      <td>0.999202</td>\n",
       "    </tr>\n",
       "    <tr>\n",
       "      <th>Population</th>\n",
       "      <td>0.968480</td>\n",
       "      <td>1.000000</td>\n",
       "      <td>0.988750</td>\n",
       "      <td>0.989812</td>\n",
       "      <td>0.975045</td>\n",
       "    </tr>\n",
       "    <tr>\n",
       "      <th>Yearly_Change</th>\n",
       "      <td>0.941166</td>\n",
       "      <td>0.988750</td>\n",
       "      <td>1.000000</td>\n",
       "      <td>0.988875</td>\n",
       "      <td>0.948742</td>\n",
       "    </tr>\n",
       "    <tr>\n",
       "      <th>Urban_Population</th>\n",
       "      <td>0.924069</td>\n",
       "      <td>0.989812</td>\n",
       "      <td>0.988875</td>\n",
       "      <td>1.000000</td>\n",
       "      <td>0.933754</td>\n",
       "    </tr>\n",
       "    <tr>\n",
       "      <th>World_Population</th>\n",
       "      <td>0.999202</td>\n",
       "      <td>0.975045</td>\n",
       "      <td>0.948742</td>\n",
       "      <td>0.933754</td>\n",
       "      <td>1.000000</td>\n",
       "    </tr>\n",
       "  </tbody>\n",
       "</table>\n",
       "</div>"
      ],
      "text/plain": [
       "                      Year  Population  Yearly_Change  Urban_Population  \\\n",
       "Year              1.000000    0.968480       0.941166          0.924069   \n",
       "Population        0.968480    1.000000       0.988750          0.989812   \n",
       "Yearly_Change     0.941166    0.988750       1.000000          0.988875   \n",
       "Urban_Population  0.924069    0.989812       0.988875          1.000000   \n",
       "World_Population  0.999202    0.975045       0.948742          0.933754   \n",
       "\n",
       "                  World_Population  \n",
       "Year                      0.999202  \n",
       "Population                0.975045  \n",
       "Yearly_Change             0.948742  \n",
       "Urban_Population          0.933754  \n",
       "World_Population          1.000000  "
      ]
     },
     "execution_count": 81,
     "metadata": {},
     "output_type": "execute_result"
    }
   ],
   "source": [
    "correlation"
   ]
  }
 ],
 "metadata": {
  "kernelspec": {
   "display_name": "Python 3 (ipykernel)",
   "language": "python",
   "name": "python3"
  },
  "language_info": {
   "codemirror_mode": {
    "name": "ipython",
    "version": 3
   },
   "file_extension": ".py",
   "mimetype": "text/x-python",
   "name": "python",
   "nbconvert_exporter": "python",
   "pygments_lexer": "ipython3",
   "version": "3.9.12"
  }
 },
 "nbformat": 4,
 "nbformat_minor": 5
}
