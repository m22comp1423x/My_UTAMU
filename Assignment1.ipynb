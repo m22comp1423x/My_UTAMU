{
 "cells": [
  {
   "cell_type": "markdown",
   "id": "3872dfa9",
   "metadata": {},
   "source": [
    "# M22.CS 507 Machine Learning Assignment 1"
   ]
  },
  {
   "cell_type": "markdown",
   "id": "6fb08416",
   "metadata": {},
   "source": [
    "1. Check the correlation of these independent variables vs CO2Emission as dependent variable (5 marks)"
   ]
  },
  {
   "cell_type": "code",
   "execution_count": 23,
   "id": "e9199903",
   "metadata": {},
   "outputs": [
    {
     "data": {
      "text/html": [
       "<div>\n",
       "<style scoped>\n",
       "    .dataframe tbody tr th:only-of-type {\n",
       "        vertical-align: middle;\n",
       "    }\n",
       "\n",
       "    .dataframe tbody tr th {\n",
       "        vertical-align: top;\n",
       "    }\n",
       "\n",
       "    .dataframe thead th {\n",
       "        text-align: right;\n",
       "    }\n",
       "</style>\n",
       "<table border=\"1\" class=\"dataframe\">\n",
       "  <thead>\n",
       "    <tr style=\"text-align: right;\">\n",
       "      <th></th>\n",
       "      <th>MODELYEAR</th>\n",
       "      <th>ENGINESIZE</th>\n",
       "      <th>CYLINDERS</th>\n",
       "      <th>FUELCONSUMPTION_CITY</th>\n",
       "      <th>FUELCONSUMPTION_HWY</th>\n",
       "      <th>FUELCONSUMPTION_COMB</th>\n",
       "      <th>FUELCONSUMPTION_COMB_MPG</th>\n",
       "      <th>CO2EMISSIONS</th>\n",
       "    </tr>\n",
       "  </thead>\n",
       "  <tbody>\n",
       "    <tr>\n",
       "      <th>MODELYEAR</th>\n",
       "      <td>NaN</td>\n",
       "      <td>NaN</td>\n",
       "      <td>NaN</td>\n",
       "      <td>NaN</td>\n",
       "      <td>NaN</td>\n",
       "      <td>NaN</td>\n",
       "      <td>NaN</td>\n",
       "      <td>NaN</td>\n",
       "    </tr>\n",
       "    <tr>\n",
       "      <th>ENGINESIZE</th>\n",
       "      <td>NaN</td>\n",
       "      <td>1.000000</td>\n",
       "      <td>0.934011</td>\n",
       "      <td>0.832225</td>\n",
       "      <td>0.778746</td>\n",
       "      <td>0.819482</td>\n",
       "      <td>-0.808554</td>\n",
       "      <td>0.874154</td>\n",
       "    </tr>\n",
       "    <tr>\n",
       "      <th>CYLINDERS</th>\n",
       "      <td>NaN</td>\n",
       "      <td>0.934011</td>\n",
       "      <td>1.000000</td>\n",
       "      <td>0.796473</td>\n",
       "      <td>0.724594</td>\n",
       "      <td>0.776788</td>\n",
       "      <td>-0.770430</td>\n",
       "      <td>0.849685</td>\n",
       "    </tr>\n",
       "    <tr>\n",
       "      <th>FUELCONSUMPTION_CITY</th>\n",
       "      <td>NaN</td>\n",
       "      <td>0.832225</td>\n",
       "      <td>0.796473</td>\n",
       "      <td>1.000000</td>\n",
       "      <td>0.965718</td>\n",
       "      <td>0.995542</td>\n",
       "      <td>-0.935613</td>\n",
       "      <td>0.898039</td>\n",
       "    </tr>\n",
       "    <tr>\n",
       "      <th>FUELCONSUMPTION_HWY</th>\n",
       "      <td>NaN</td>\n",
       "      <td>0.778746</td>\n",
       "      <td>0.724594</td>\n",
       "      <td>0.965718</td>\n",
       "      <td>1.000000</td>\n",
       "      <td>0.985804</td>\n",
       "      <td>-0.893809</td>\n",
       "      <td>0.861748</td>\n",
       "    </tr>\n",
       "    <tr>\n",
       "      <th>FUELCONSUMPTION_COMB</th>\n",
       "      <td>NaN</td>\n",
       "      <td>0.819482</td>\n",
       "      <td>0.776788</td>\n",
       "      <td>0.995542</td>\n",
       "      <td>0.985804</td>\n",
       "      <td>1.000000</td>\n",
       "      <td>-0.927965</td>\n",
       "      <td>0.892129</td>\n",
       "    </tr>\n",
       "    <tr>\n",
       "      <th>FUELCONSUMPTION_COMB_MPG</th>\n",
       "      <td>NaN</td>\n",
       "      <td>-0.808554</td>\n",
       "      <td>-0.770430</td>\n",
       "      <td>-0.935613</td>\n",
       "      <td>-0.893809</td>\n",
       "      <td>-0.927965</td>\n",
       "      <td>1.000000</td>\n",
       "      <td>-0.906394</td>\n",
       "    </tr>\n",
       "    <tr>\n",
       "      <th>CO2EMISSIONS</th>\n",
       "      <td>NaN</td>\n",
       "      <td>0.874154</td>\n",
       "      <td>0.849685</td>\n",
       "      <td>0.898039</td>\n",
       "      <td>0.861748</td>\n",
       "      <td>0.892129</td>\n",
       "      <td>-0.906394</td>\n",
       "      <td>1.000000</td>\n",
       "    </tr>\n",
       "  </tbody>\n",
       "</table>\n",
       "</div>"
      ],
      "text/plain": [
       "                          MODELYEAR  ENGINESIZE  CYLINDERS  \\\n",
       "MODELYEAR                       NaN         NaN        NaN   \n",
       "ENGINESIZE                      NaN    1.000000   0.934011   \n",
       "CYLINDERS                       NaN    0.934011   1.000000   \n",
       "FUELCONSUMPTION_CITY            NaN    0.832225   0.796473   \n",
       "FUELCONSUMPTION_HWY             NaN    0.778746   0.724594   \n",
       "FUELCONSUMPTION_COMB            NaN    0.819482   0.776788   \n",
       "FUELCONSUMPTION_COMB_MPG        NaN   -0.808554  -0.770430   \n",
       "CO2EMISSIONS                    NaN    0.874154   0.849685   \n",
       "\n",
       "                          FUELCONSUMPTION_CITY  FUELCONSUMPTION_HWY  \\\n",
       "MODELYEAR                                  NaN                  NaN   \n",
       "ENGINESIZE                            0.832225             0.778746   \n",
       "CYLINDERS                             0.796473             0.724594   \n",
       "FUELCONSUMPTION_CITY                  1.000000             0.965718   \n",
       "FUELCONSUMPTION_HWY                   0.965718             1.000000   \n",
       "FUELCONSUMPTION_COMB                  0.995542             0.985804   \n",
       "FUELCONSUMPTION_COMB_MPG             -0.935613            -0.893809   \n",
       "CO2EMISSIONS                          0.898039             0.861748   \n",
       "\n",
       "                          FUELCONSUMPTION_COMB  FUELCONSUMPTION_COMB_MPG  \\\n",
       "MODELYEAR                                  NaN                       NaN   \n",
       "ENGINESIZE                            0.819482                 -0.808554   \n",
       "CYLINDERS                             0.776788                 -0.770430   \n",
       "FUELCONSUMPTION_CITY                  0.995542                 -0.935613   \n",
       "FUELCONSUMPTION_HWY                   0.985804                 -0.893809   \n",
       "FUELCONSUMPTION_COMB                  1.000000                 -0.927965   \n",
       "FUELCONSUMPTION_COMB_MPG             -0.927965                  1.000000   \n",
       "CO2EMISSIONS                          0.892129                 -0.906394   \n",
       "\n",
       "                          CO2EMISSIONS  \n",
       "MODELYEAR                          NaN  \n",
       "ENGINESIZE                    0.874154  \n",
       "CYLINDERS                     0.849685  \n",
       "FUELCONSUMPTION_CITY          0.898039  \n",
       "FUELCONSUMPTION_HWY           0.861748  \n",
       "FUELCONSUMPTION_COMB          0.892129  \n",
       "FUELCONSUMPTION_COMB_MPG     -0.906394  \n",
       "CO2EMISSIONS                  1.000000  "
      ]
     },
     "execution_count": 23,
     "metadata": {},
     "output_type": "execute_result"
    }
   ],
   "source": [
    "import pandas as pd\n",
    "from scipy.stats import pearsonr\n",
    "import numpy as np\n",
    "from matplotlib import pyplot as plt\n",
    "\n",
    "data= pd.read_csv('FuelConsumptionCo2.csv')\n",
    "\n",
    "data.corr()"
   ]
  },
  {
   "cell_type": "markdown",
   "id": "bbda75a8",
   "metadata": {},
   "source": [
    "### 2. Plot the scatter diagram of CO2Emission Vs Engine Size (5 marks)"
   ]
  },
  {
   "cell_type": "code",
   "execution_count": 24,
   "id": "afe31210",
   "metadata": {},
   "outputs": [
    {
     "data": {
      "image/png": "[encoded data removed]",
      "text/plain": [
       "<Figure size 576x396 with 1 Axes>"
      ]
     },
     "metadata": {},
     "output_type": "display_data"
    }
   ],
   "source": [
    "plt.style.use('seaborn')\n",
    "plt.title('CO2Emissions VS Engine size')\n",
    "plt.scatter(Engine_size,Co2Emissions,s=10,c='blue',alpha=0.75)\n",
    "plt.xlabel('ENGINESIZE')\n",
    "plt.ylabel('CO2EMISSIONS')\n",
    "plt.show()"
   ]
  },
  {
   "cell_type": "markdown",
   "id": "95892161",
   "metadata": {},
   "source": [
    "## 3. Train, fit and design the predictive parameters. (5 marks)"
   ]
  },
  {
   "cell_type": "code",
   "execution_count": 96,
   "id": "76e3b537",
   "metadata": {},
   "outputs": [
    {
     "data": {
      "text/plain": [
       "array([1.45917370e+22, 1.73906825e+22, 2.34974726e+22, 1.17927916e+22,\n",
       "       1.33194891e+22, 1.51006362e+22, 2.40063718e+22, 1.23016907e+22,\n",
       "       1.78995817e+22, 2.40063718e+22, 1.71362329e+22, 1.23016907e+22,\n",
       "       1.73906825e+22, 1.33194891e+22, 2.09529768e+22, 2.17163255e+22,\n",
       "       1.58639850e+22, 1.71362329e+22, 1.23016907e+22, 1.23016907e+22,\n",
       "       1.58639850e+22, 2.04440776e+22, 1.28105899e+22, 2.40063718e+22,\n",
       "       1.58639850e+22, 1.17927916e+22, 1.73906825e+22, 2.17163255e+22,\n",
       "       1.73906825e+22, 1.43372875e+22, 1.45917370e+22, 2.04440776e+22,\n",
       "       1.73906825e+22, 1.51006362e+22, 1.43372875e+22, 1.28105899e+22,\n",
       "       1.78995817e+22, 1.73906825e+22, 1.33194891e+22, 1.45917370e+22,\n",
       "       1.33194891e+22, 2.40063718e+22, 1.73906825e+22, 1.43372875e+22,\n",
       "       2.27341239e+22, 1.66273338e+22, 1.71362329e+22, 2.29885735e+22,\n",
       "       1.71362329e+22, 2.04440776e+22, 1.73906825e+22, 2.40063718e+22,\n",
       "       1.94262792e+22, 1.76451321e+22, 1.68817833e+22, 1.23016907e+22,\n",
       "       1.28105899e+22, 1.43372875e+22, 1.33194891e+22, 1.17927916e+22,\n",
       "       1.58639850e+22, 1.20472412e+22, 1.99351784e+22, 2.27341239e+22,\n",
       "       1.51006362e+22, 1.84084809e+22, 2.22252247e+22, 1.33194891e+22,\n",
       "       1.28105899e+22, 1.33194891e+22, 1.45917370e+22, 1.58639850e+22,\n",
       "       1.23016907e+22, 1.73906825e+22, 2.19707751e+22, 1.73906825e+22,\n",
       "       1.58639850e+22, 2.17163255e+22, 1.73906825e+22, 2.17163255e+22,\n",
       "       1.28105899e+22, 1.71362329e+22, 1.43372875e+22, 1.23016907e+22,\n",
       "       1.84084809e+22, 1.71362329e+22, 1.66273338e+22, 1.23016907e+22,\n",
       "       1.23016907e+22, 1.23016907e+22, 1.17927916e+22, 1.73906825e+22,\n",
       "       1.23016907e+22, 1.20472412e+22, 1.94262792e+22, 1.28105899e+22,\n",
       "       1.73906825e+22, 2.47697206e+22, 2.34974726e+22, 1.73906825e+22,\n",
       "       1.23016907e+22, 2.19707751e+22, 1.33194891e+22, 1.71362329e+22,\n",
       "       1.23016907e+22, 1.76451321e+22, 1.58639850e+22, 1.23016907e+22,\n",
       "       1.73906825e+22, 1.58639850e+22, 1.58639850e+22, 2.17163255e+22,\n",
       "       1.68817833e+22, 1.23016907e+22, 1.33194891e+22, 1.58639850e+22,\n",
       "       1.58639850e+22, 1.28105899e+22, 1.28105899e+22, 1.33194891e+22,\n",
       "       1.28105899e+22, 1.33194891e+22, 2.22252247e+22, 1.28105899e+22,\n",
       "       1.84084809e+22, 2.04440776e+22, 1.33194891e+22, 1.71362329e+22,\n",
       "       2.17163255e+22, 1.28105899e+22, 1.33194891e+22, 2.27341239e+22,\n",
       "       1.91718296e+22, 1.73906825e+22, 1.71362329e+22, 1.73906825e+22,\n",
       "       2.09529768e+22, 2.17163255e+22, 2.22252247e+22, 1.94262792e+22,\n",
       "       1.71362329e+22, 2.17163255e+22, 1.71362329e+22, 1.68817833e+22,\n",
       "       1.43372875e+22, 1.43372875e+22, 2.17163255e+22, 1.43372875e+22,\n",
       "       1.68817833e+22, 1.68817833e+22, 1.71362329e+22, 1.43372875e+22,\n",
       "       1.94262792e+22, 1.71362329e+22, 1.43372875e+22, 1.33194891e+22,\n",
       "       1.33194891e+22, 2.45152710e+22, 2.19707751e+22, 2.09529768e+22,\n",
       "       2.52786198e+22, 1.58639850e+22, 2.17163255e+22, 1.23016907e+22,\n",
       "       1.45917370e+22, 1.33194891e+22, 1.33194891e+22, 1.73906825e+22,\n",
       "       1.84084809e+22, 1.58639850e+22, 1.28105899e+22, 1.58639850e+22,\n",
       "       1.84084809e+22, 1.58639850e+22, 1.23016907e+22, 1.33194891e+22,\n",
       "       1.71362329e+22, 1.71362329e+22, 2.14618759e+22, 1.17927916e+22,\n",
       "       1.71362329e+22, 2.09529768e+22, 2.09529768e+22, 1.73906825e+22,\n",
       "       1.58639850e+22, 1.33194891e+22, 1.33194891e+22, 1.99351784e+22,\n",
       "       1.58639850e+22, 1.33194891e+22, 1.23016907e+22, 2.14618759e+22,\n",
       "       1.99351784e+22, 1.33194891e+22, 1.71362329e+22, 1.99351784e+22,\n",
       "       1.23016907e+22, 1.71362329e+22, 1.73906825e+22, 1.45917370e+22,\n",
       "       1.33194891e+22, 1.17927916e+22, 1.71362329e+22, 1.43372875e+22,\n",
       "       1.33194891e+22, 1.58639850e+22, 2.09529768e+22, 1.73906825e+22,\n",
       "       1.17927916e+22, 1.43372875e+22, 1.45917370e+22, 1.20472412e+22,\n",
       "       1.63728842e+22, 1.33194891e+22])"
      ]
     },
     "execution_count": 96,
     "metadata": {},
     "output_type": "execute_result"
    }
   ],
   "source": [
    "from sklearn.model_selection import train_test_split\n",
    "from sklearn.linear_model import LinearRegression\n",
    "from statistics import mean\n",
    "\n",
    "X = data[['ENGINESIZE']]\n",
    "y = data['CO2EMISSIONS']\n",
    "\n",
    "X_train,X_test,y_train,y_test = train_test_split(X,y,test_size=0.2,)\n",
    "\n",
    "clf = LinearRegression()\n",
    "\n",
    "#training the model\n",
    "clf.fit(X_train,y_train)\n",
    "\n",
    "#make predictions\n",
    "clf.predict(X_test)\n"
   ]
  },
  {
   "cell_type": "markdown",
   "id": "dbd038d9",
   "metadata": {},
   "source": [
    "## 4. Determine: (i) the Coefficient  (ii) intercept of the graph (5 marks)"
   ]
  },
  {
   "cell_type": "code",
   "execution_count": 63,
   "id": "5bb8a99e",
   "metadata": {},
   "outputs": [
    {
     "data": {
      "text/plain": [
       "(0.8741543683958123, 0.0)"
      ]
     },
     "execution_count": 63,
     "metadata": {},
     "output_type": "execute_result"
    }
   ],
   "source": [
    "# (i) Coefficient of CO2Emissions vs Enginesize\n",
    "pearsonr(data['ENGINESIZE'],data['CO2EMISSIONS'])"
   ]
  },
  {
   "cell_type": "code",
   "execution_count": 76,
   "id": "0c3e224a",
   "metadata": {},
   "outputs": [],
   "source": [
    "# (ii) Intercept of the graph\n",
    "data['ENGINESIZE'] = data['ENGINESIZE']\n",
    "data['CO2EMISSIONS'] = data['CO2EMISSIONS']\n",
    "\n",
    "engine_list = data['ENGINESIZE'].tolist()\n",
    "emission_list = data['CO2EMISSIONS'].tolist()\n",
    "\n",
    "xs = np.array(engine_list, dtype=np.float64)\n",
    "ys = np.array(emission_list, dtype=np.float64)\n",
    "\n",
    "slope = (((mean(xs) * mean(ys)) - mean(xs * ys)) / ((mean(xs) * mean(xs)) - mean(xs * xs)))\n",
    "y_intercept = mean(ys) - slope * mean(xs)"
   ]
  },
  {
   "cell_type": "code",
   "execution_count": 83,
   "id": "49d709ce",
   "metadata": {},
   "outputs": [
    {
     "name": "stdout",
     "output_type": "stream",
     "text": [
      "2.5670043580061545e+21\n",
      "8.22120196789037e+21\n"
     ]
    }
   ],
   "source": [
    "print(slope)\n",
    "print(y_intercept)"
   ]
  },
  {
   "cell_type": "markdown",
   "id": "4320f462",
   "metadata": {},
   "source": [
    "## 5. Plot the linear graph with line of best fit. (5 marks)"
   ]
  },
  {
   "cell_type": "code",
   "execution_count": 82,
   "id": "62064837",
   "metadata": {},
   "outputs": [
    {
     "data": {
      "image/png": "[encoded data removed]",
      "text/plain": [
       "<Figure size 576x396 with 1 Axes>"
      ]
     },
     "metadata": {},
     "output_type": "display_data"
    }
   ],
   "source": [
    "regression_line = [(slope * x) + y_intercept for x in xs]\n",
    "\n",
    "plt.scatter(xs,ys,alpha=0.75,color='blue',s=30)\n",
    "plt.plot(xs,regression_line,color='red',linewidth=6)\n",
    "plt.title('Best Fit Line')\n",
    "plt.xlabel('ENGINESIZE')\n",
    "plt.ylabel('CO2EMISSIONS')\n",
    "plt.show()\n"
   ]
  },
  {
   "cell_type": "markdown",
   "id": "a02223c3",
   "metadata": {},
   "source": [
    "## 6. Determine the model in the form of  Y = mX + C. (5 marks)"
   ]
  },
  {
   "cell_type": "code",
   "execution_count": 84,
   "id": "801eaeb0",
   "metadata": {},
   "outputs": [],
   "source": [
    "y = 2.567 * 2 + 8.22 "
   ]
  },
  {
   "cell_type": "code",
   "execution_count": 85,
   "id": "5c5b7046",
   "metadata": {},
   "outputs": [
    {
     "name": "stdout",
     "output_type": "stream",
     "text": [
      "13.354000000000001\n"
     ]
    }
   ],
   "source": [
    "print(y)"
   ]
  },
  {
   "cell_type": "code",
   "execution_count": 86,
   "id": "49215232",
   "metadata": {},
   "outputs": [],
   "source": [
    "# (2,13.35)"
   ]
  },
  {
   "cell_type": "markdown",
   "id": "d8650360",
   "metadata": {},
   "source": [
    "## 7. Determine the R-Squared Scores and the Residual sum of squares (MSE). (5 marks)"
   ]
  },
  {
   "cell_type": "code",
   "execution_count": 87,
   "id": "b1b327bc",
   "metadata": {},
   "outputs": [],
   "source": [
    "from sklearn.metrics import r2_score\n",
    "\n",
    "r_squared = r2_score(ys,regression_line)"
   ]
  },
  {
   "cell_type": "code",
   "execution_count": 88,
   "id": "73381ff2",
   "metadata": {},
   "outputs": [
    {
     "name": "stdout",
     "output_type": "stream",
     "text": [
      "0.7641458597854816\n"
     ]
    }
   ],
   "source": [
    "print(r_squared)"
   ]
  },
  {
   "cell_type": "code",
   "execution_count": 90,
   "id": "98a02de1",
   "metadata": {},
   "outputs": [],
   "source": [
    "RSS = ((y_test - clf.predict(X_test))**2).sum()"
   ]
  },
  {
   "cell_type": "code",
   "execution_count": 91,
   "id": "a9fb1d5e",
   "metadata": {},
   "outputs": [
    {
     "data": {
      "text/plain": [
       "1.1659784343305016e+25"
      ]
     },
     "execution_count": 91,
     "metadata": {},
     "output_type": "execute_result"
    }
   ],
   "source": [
    "RSS"
   ]
  },
  {
   "cell_type": "code",
   "execution_count": 92,
   "id": "518f6105",
   "metadata": {},
   "outputs": [],
   "source": [
    "MSE = np.mean((y_test - clf.predict(X_test))**2)"
   ]
  },
  {
   "cell_type": "code",
   "execution_count": 93,
   "id": "231f276e",
   "metadata": {},
   "outputs": [
    {
     "data": {
      "text/plain": [
       "5.448497356684592e+22"
      ]
     },
     "execution_count": 93,
     "metadata": {},
     "output_type": "execute_result"
    }
   ],
   "source": [
    "MSE"
   ]
  },
  {
   "cell_type": "code",
   "execution_count": 94,
   "id": "d48a1fe1",
   "metadata": {},
   "outputs": [],
   "source": [
    "RMSE = np.sqrt(MSE)"
   ]
  },
  {
   "cell_type": "code",
   "execution_count": 95,
   "id": "2a903597",
   "metadata": {},
   "outputs": [
    {
     "data": {
      "text/plain": [
       "233420165296.07275"
      ]
     },
     "execution_count": 95,
     "metadata": {},
     "output_type": "execute_result"
    }
   ],
   "source": [
    "RMSE"
   ]
  },
  {
   "cell_type": "markdown",
   "id": "3aba94e6",
   "metadata": {},
   "source": [
    "## 8. Conclude the performance of the predictive model designed. (5 marks)"
   ]
  },
  {
   "cell_type": "code",
   "execution_count": 97,
   "id": "91204d35",
   "metadata": {},
   "outputs": [
    {
     "data": {
      "text/plain": [
       "0.7291778358126706"
      ]
     },
     "execution_count": 97,
     "metadata": {},
     "output_type": "execute_result"
    }
   ],
   "source": [
    "clf.score(X_test,y_test)"
   ]
  },
  {
   "cell_type": "markdown",
   "id": "76037afe",
   "metadata": {},
   "source": [
    "### - The Predictive model designed is 73% accurate"
   ]
  },
  {
   "cell_type": "code",
   "execution_count": null,
   "id": "c29a368c",
   "metadata": {},
   "outputs": [],
   "source": []
  }
 ],
 "metadata": {
  "kernelspec": {
   "display_name": "Python 3 (ipykernel)",
   "language": "python",
   "name": "python3"
  },
  "language_info": {
   "codemirror_mode": {
    "name": "ipython",
    "version": 3
   },
   "file_extension": ".py",
   "mimetype": "text/x-python",
   "name": "python",
   "nbconvert_exporter": "python",
   "pygments_lexer": "ipython3",
   "version": "3.9.12"
  }
 },
 "nbformat": 4,
 "nbformat_minor": 5
}
