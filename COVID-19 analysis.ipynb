{
 "cells": [
  {
   "cell_type": "markdown",
   "id": "26e1bb6e",
   "metadata": {},
   "source": [
    "#  COVID-19 Situation Update Worldwide , Updated 9 June 2022"
   ]
  },
  {
   "cell_type": "markdown",
   "id": "248ab3cd",
   "metadata": {},
   "source": [
    "By Ciniso Msibi"
   ]
  },
  {
   "cell_type": "markdown",
   "id": "5332dab5",
   "metadata": {},
   "source": [
    "### Showing the first 5 rows of the data and the last 5 rows of the data"
   ]
  },
  {
   "cell_type": "code",
   "execution_count": 2,
   "id": "ee0668a5",
   "metadata": {},
   "outputs": [
    {
     "name": "stdout",
     "output_type": "stream",
     "text": [
      "Requirement already satisfied: lxml in c:\\users\\virus msibi\\anaconda3\\lib\\site-packages (4.8.0)\n"
     ]
    }
   ],
   "source": [
    "!pip install lxml"
   ]
  },
  {
   "cell_type": "code",
   "execution_count": 4,
   "id": "d4083d35",
   "metadata": {},
   "outputs": [],
   "source": [
    "import requests\n",
    "import lxml.html as lh\n",
    "import pandas as pd\n",
    "import numpy as np\n",
    "import matplotlib.pyplot as plt"
   ]
  },
  {
   "cell_type": "code",
   "execution_count": 5,
   "id": "2a85c14c",
   "metadata": {},
   "outputs": [
    {
     "data": {
      "text/plain": [
       "[6, 6, 6, 6, 6, 6, 6, 6, 6, 6, 6, 6]"
      ]
     },
     "execution_count": 5,
     "metadata": {},
     "output_type": "execute_result"
    }
   ],
   "source": [
    "covid_data = 'https://www.ecdc.europa.eu/en/geographical-distribution-2019-ncov-cases'\n",
    "page = requests.get(covid_data)\n",
    "doc = lh.fromstring(page.content)\n",
    "tr_elements = doc.xpath('//tr')\n",
    "[len(T) for T in tr_elements[:12]]"
   ]
  },
  {
   "cell_type": "code",
   "execution_count": 6,
   "id": "d236a7fa",
   "metadata": {},
   "outputs": [
    {
     "name": "stdout",
     "output_type": "stream",
     "text": [
      "1:Region\n",
      "2:Places reporting cases\n",
      "3:Sum of Cases\n",
      "4:Sum of Deaths\n",
      "5:Confirmed cases during the 14-days\n",
      "\t\t\tof the reporting  period \n",
      "6:Reporting period\n",
      "\t\t\tYYYY-WW\n"
     ]
    }
   ],
   "source": [
    "tr_elements = doc.xpath('//tr')\n",
    "col = []\n",
    "i = 0\n",
    "\n",
    "for t in tr_elements[0]:\n",
    "    i+=1\n",
    "    name = t.text_content()\n",
    "    print(\"%d:%s\" % (i,name))\n",
    "    col.append((name,[]))"
   ]
  },
  {
   "cell_type": "code",
   "execution_count": 8,
   "id": "64cbe393",
   "metadata": {},
   "outputs": [],
   "source": [
    "for j in range(1,len(tr_elements)):\n",
    "    T = tr_elements[j]\n",
    "    \n",
    "    if len(T)!=6:\n",
    "        break\n",
    "        \n",
    "    i = 0\n",
    "    \n",
    "    for t in T.iterchildren():\n",
    "        data = t.text_content()\n",
    "        col[i][1].append(data)\n",
    "        \n",
    "        i+= 1"
   ]
  },
  {
   "cell_type": "code",
   "execution_count": 9,
   "id": "d9ba818e",
   "metadata": {},
   "outputs": [
    {
     "data": {
      "text/plain": [
       "[224, 224, 224, 224, 224, 224]"
      ]
     },
     "execution_count": 9,
     "metadata": {},
     "output_type": "execute_result"
    }
   ],
   "source": [
    "[len(C) for (title,C) in col]"
   ]
  },
  {
   "cell_type": "code",
   "execution_count": 10,
   "id": "b23a9a94",
   "metadata": {},
   "outputs": [],
   "source": [
    "Dict = {title:column for(title,column) in col}\n",
    "df = pd.DataFrame(Dict)"
   ]
  },
  {
   "cell_type": "code",
   "execution_count": 11,
   "id": "4c77bacb",
   "metadata": {},
   "outputs": [
    {
     "data": {
      "text/html": [
       "<div>\n",
       "<style scoped>\n",
       "    .dataframe tbody tr th:only-of-type {\n",
       "        vertical-align: middle;\n",
       "    }\n",
       "\n",
       "    .dataframe tbody tr th {\n",
       "        vertical-align: top;\n",
       "    }\n",
       "\n",
       "    .dataframe thead th {\n",
       "        text-align: right;\n",
       "    }\n",
       "</style>\n",
       "<table border=\"1\" class=\"dataframe\">\n",
       "  <thead>\n",
       "    <tr style=\"text-align: right;\">\n",
       "      <th></th>\n",
       "      <th>Region</th>\n",
       "      <th>Places reporting cases</th>\n",
       "      <th>Sum of Cases</th>\n",
       "      <th>Sum of Deaths</th>\n",
       "      <th>Confirmed cases during the 14-days\\n\\t\\t\\tof the reporting  period</th>\n",
       "      <th>Reporting period\\n\\t\\t\\tYYYY-WW</th>\n",
       "    </tr>\n",
       "  </thead>\n",
       "  <tbody>\n",
       "    <tr>\n",
       "      <th>0</th>\n",
       "      <td>Africa</td>\n",
       "      <td>Algeria</td>\n",
       "      <td>265897</td>\n",
       "      <td>6875</td>\n",
       "      <td>56</td>\n",
       "      <td>2022-21 and 2022-22</td>\n",
       "    </tr>\n",
       "    <tr>\n",
       "      <th>1</th>\n",
       "      <td></td>\n",
       "      <td>Angola</td>\n",
       "      <td>99761</td>\n",
       "      <td>1900</td>\n",
       "      <td>328</td>\n",
       "      <td>2022-21 and 2022-22</td>\n",
       "    </tr>\n",
       "    <tr>\n",
       "      <th>2</th>\n",
       "      <td></td>\n",
       "      <td>Benin</td>\n",
       "      <td>26952</td>\n",
       "      <td>163</td>\n",
       "      <td>0</td>\n",
       "      <td>2022-21 and 2022-22</td>\n",
       "    </tr>\n",
       "    <tr>\n",
       "      <th>3</th>\n",
       "      <td></td>\n",
       "      <td>Botswana</td>\n",
       "      <td>306716</td>\n",
       "      <td>2703</td>\n",
       "      <td>0</td>\n",
       "      <td>2022-21 and 2022-22</td>\n",
       "    </tr>\n",
       "    <tr>\n",
       "      <th>4</th>\n",
       "      <td></td>\n",
       "      <td>Burkina_Faso</td>\n",
       "      <td>20899</td>\n",
       "      <td>384</td>\n",
       "      <td>0</td>\n",
       "      <td>2022-21 and 2022-22</td>\n",
       "    </tr>\n",
       "  </tbody>\n",
       "</table>\n",
       "</div>"
      ],
      "text/plain": [
       "   Region Places reporting cases Sum of Cases Sum of Deaths  \\\n",
       "0  Africa                Algeria       265897          6875   \n",
       "1                         Angola        99761          1900   \n",
       "2                          Benin        26952           163   \n",
       "3                       Botswana       306716          2703   \n",
       "4                   Burkina_Faso        20899           384   \n",
       "\n",
       "  Confirmed cases during the 14-days\\n\\t\\t\\tof the reporting  period   \\\n",
       "0                                                 56                    \n",
       "1                                                328                    \n",
       "2                                                  0                    \n",
       "3                                                  0                    \n",
       "4                                                  0                    \n",
       "\n",
       "  Reporting period\\n\\t\\t\\tYYYY-WW  \n",
       "0             2022-21 and 2022-22  \n",
       "1             2022-21 and 2022-22  \n",
       "2             2022-21 and 2022-22  \n",
       "3             2022-21 and 2022-22  \n",
       "4             2022-21 and 2022-22  "
      ]
     },
     "execution_count": 11,
     "metadata": {},
     "output_type": "execute_result"
    }
   ],
   "source": [
    "df.head()"
   ]
  },
  {
   "cell_type": "code",
   "execution_count": 12,
   "id": "f82cdf43",
   "metadata": {},
   "outputs": [
    {
     "data": {
      "text/html": [
       "<div>\n",
       "<style scoped>\n",
       "    .dataframe tbody tr th:only-of-type {\n",
       "        vertical-align: middle;\n",
       "    }\n",
       "\n",
       "    .dataframe tbody tr th {\n",
       "        vertical-align: top;\n",
       "    }\n",
       "\n",
       "    .dataframe thead th {\n",
       "        text-align: right;\n",
       "    }\n",
       "</style>\n",
       "<table border=\"1\" class=\"dataframe\">\n",
       "  <thead>\n",
       "    <tr style=\"text-align: right;\">\n",
       "      <th></th>\n",
       "      <th>Region</th>\n",
       "      <th>Places reporting cases</th>\n",
       "      <th>Sum of Cases</th>\n",
       "      <th>Sum of Deaths</th>\n",
       "      <th>Confirmed cases during the 14-days\\n\\t\\t\\tof the reporting  period</th>\n",
       "      <th>Reporting period\\n\\t\\t\\tYYYY-WW</th>\n",
       "    </tr>\n",
       "  </thead>\n",
       "  <tbody>\n",
       "    <tr>\n",
       "      <th>219</th>\n",
       "      <td></td>\n",
       "      <td>Tuvalu</td>\n",
       "      <td>3</td>\n",
       "      <td>0</td>\n",
       "      <td>0</td>\n",
       "      <td>2022-21 and 2022-22</td>\n",
       "    </tr>\n",
       "    <tr>\n",
       "      <th>220</th>\n",
       "      <td></td>\n",
       "      <td>Vanuatu</td>\n",
       "      <td>10061</td>\n",
       "      <td>14</td>\n",
       "      <td>1379</td>\n",
       "      <td>2022-21 and 2022-22</td>\n",
       "    </tr>\n",
       "    <tr>\n",
       "      <th>221</th>\n",
       "      <td></td>\n",
       "      <td>Wallis_and_Futuna</td>\n",
       "      <td>454</td>\n",
       "      <td>7</td>\n",
       "      <td>0</td>\n",
       "      <td>2022-21 and 2022-22</td>\n",
       "    </tr>\n",
       "    <tr>\n",
       "      <th>222</th>\n",
       "      <td>Other</td>\n",
       "      <td>Cases_on_an_international_conveyance_Japan</td>\n",
       "      <td>705</td>\n",
       "      <td>6</td>\n",
       "      <td>0</td>\n",
       "      <td>2022-21 and 2022-22</td>\n",
       "    </tr>\n",
       "    <tr>\n",
       "      <th>223</th>\n",
       "      <td>Total</td>\n",
       "      <td></td>\n",
       "      <td>531470423</td>\n",
       "      <td>6318391</td>\n",
       "      <td>6705497</td>\n",
       "      <td></td>\n",
       "    </tr>\n",
       "  </tbody>\n",
       "</table>\n",
       "</div>"
      ],
      "text/plain": [
       "    Region                      Places reporting cases Sum of Cases  \\\n",
       "219                                             Tuvalu            3   \n",
       "220                                            Vanuatu        10061   \n",
       "221                                  Wallis_and_Futuna          454   \n",
       "222  Other  Cases_on_an_international_conveyance_Japan          705   \n",
       "223  Total                                                531470423   \n",
       "\n",
       "    Sum of Deaths  \\\n",
       "219             0   \n",
       "220            14   \n",
       "221             7   \n",
       "222             6   \n",
       "223       6318391   \n",
       "\n",
       "    Confirmed cases during the 14-days\\n\\t\\t\\tof the reporting  period   \\\n",
       "219                                                  0                    \n",
       "220                                               1379                    \n",
       "221                                                  0                    \n",
       "222                                                  0                    \n",
       "223                                            6705497                    \n",
       "\n",
       "    Reporting period\\n\\t\\t\\tYYYY-WW  \n",
       "219             2022-21 and 2022-22  \n",
       "220             2022-21 and 2022-22  \n",
       "221             2022-21 and 2022-22  \n",
       "222             2022-21 and 2022-22  \n",
       "223                                  "
      ]
     },
     "execution_count": 12,
     "metadata": {},
     "output_type": "execute_result"
    }
   ],
   "source": [
    "df.tail()"
   ]
  },
  {
   "cell_type": "code",
   "execution_count": null,
   "id": "0967b8c8",
   "metadata": {},
   "outputs": [],
   "source": []
  }
 ],
 "metadata": {
  "kernelspec": {
   "display_name": "Python 3 (ipykernel)",
   "language": "python",
   "name": "python3"
  },
  "language_info": {
   "codemirror_mode": {
    "name": "ipython",
    "version": 3
   },
   "file_extension": ".py",
   "mimetype": "text/x-python",
   "name": "python",
   "nbconvert_exporter": "python",
   "pygments_lexer": "ipython3",
   "version": "3.9.12"
  }
 },
 "nbformat": 4,
 "nbformat_minor": 5
}
