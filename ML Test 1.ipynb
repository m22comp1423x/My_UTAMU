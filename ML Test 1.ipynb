{
 "cells": [
  {
   "cell_type": "markdown",
   "id": "f2716545",
   "metadata": {},
   "source": [
    "# Machine Learning Test 1"
   ]
  },
  {
   "cell_type": "markdown",
   "id": "a994dc21",
   "metadata": {},
   "source": [
    "### By Ciniso Msibi - may22/comp/1423x"
   ]
  },
  {
   "cell_type": "code",
   "execution_count": 2,
   "id": "e5b9842c",
   "metadata": {},
   "outputs": [],
   "source": [
    "import matplotlib.pyplot as plt\n",
    "import lxml.html as lh\n",
    "import pandas as pd\n",
    "import numpy as np\n",
    "import requests\n",
    "%matplotlib inline\n",
    "import warnings\n",
    "warnings.filterwarnings('ignore')"
   ]
  },
  {
   "cell_type": "code",
   "execution_count": 3,
   "id": "86381b27",
   "metadata": {},
   "outputs": [
    {
     "data": {
      "text/plain": [
       "[1, 1, 13, 13, 13, 13, 13, 13, 13, 13, 13, 13]"
      ]
     },
     "execution_count": 3,
     "metadata": {},
     "output_type": "execute_result"
    }
   ],
   "source": [
    "popul = \"https://www.worldometers.info/world-population/uganda-population/\"\n",
    "page_handler = requests.get(popul)\n",
    "doc = lh.fromstring(page_handler.content)\n",
    "tr_elements = doc.xpath('//tr')\n",
    "[len(T) for T in tr_elements[:12]]"
   ]
  },
  {
   "cell_type": "code",
   "execution_count": 4,
   "id": "783e6fb7",
   "metadata": {},
   "outputs": [
    {
     "name": "stdout",
     "output_type": "stream",
     "text": [
      "1:Year\n",
      "2:Population\n",
      "3:Yearly %  Change\n",
      "4:Yearly Change\n",
      "5:Migrants (net)\n",
      "6:Median Age\n",
      "7:Fertility Rate\n",
      "8:Density (P/Km²)\n",
      "9:Urban Pop %\n",
      "10:Urban Population\n",
      "11:Country's Share of World Pop\n",
      "12:World Population\n",
      "13:UgandaGlobal Rank\n"
     ]
    }
   ],
   "source": [
    "tr_elements=doc.xpath('//tr')\n",
    "col = []\n",
    "i = 0\n",
    "for t in tr_elements[2]:\n",
    "    i+=1\n",
    "    name = t.text_content()\n",
    "    print('%d:%s' % (i,name))\n",
    "    col.append((name,[]))"
   ]
  },
  {
   "cell_type": "code",
   "execution_count": 5,
   "id": "756d0954",
   "metadata": {},
   "outputs": [],
   "source": [
    "for j in range(3,len(tr_elements)):\n",
    "    T = tr_elements[j]\n",
    "    \n",
    "    if len(T)!=13:\n",
    "        break\n",
    "        \n",
    "    i = 0\n",
    "    \n",
    "    for t in T.iterchildren():\n",
    "        data = t.text_content()\n",
    "        \n",
    "        col[i][1].append(data)\n",
    "        i+=1"
   ]
  },
  {
   "cell_type": "code",
   "execution_count": 6,
   "id": "d8a528c4",
   "metadata": {},
   "outputs": [
    {
     "data": {
      "text/plain": [
       "[19, 19, 19, 19, 19, 19, 19, 19, 19, 19, 19, 19, 19]"
      ]
     },
     "execution_count": 6,
     "metadata": {},
     "output_type": "execute_result"
    }
   ],
   "source": [
    "[len(C) for (title,C) in col]"
   ]
  },
  {
   "cell_type": "code",
   "execution_count": 7,
   "id": "7792be02",
   "metadata": {},
   "outputs": [
    {
     "data": {
      "text/html": [
       "<div>\n",
       "<style scoped>\n",
       "    .dataframe tbody tr th:only-of-type {\n",
       "        vertical-align: middle;\n",
       "    }\n",
       "\n",
       "    .dataframe tbody tr th {\n",
       "        vertical-align: top;\n",
       "    }\n",
       "\n",
       "    .dataframe thead th {\n",
       "        text-align: right;\n",
       "    }\n",
       "</style>\n",
       "<table border=\"1\" class=\"dataframe\">\n",
       "  <thead>\n",
       "    <tr style=\"text-align: right;\">\n",
       "      <th></th>\n",
       "      <th>Year</th>\n",
       "      <th>Population</th>\n",
       "      <th>Yearly %  Change</th>\n",
       "      <th>Yearly Change</th>\n",
       "      <th>Migrants (net)</th>\n",
       "      <th>Median Age</th>\n",
       "      <th>Fertility Rate</th>\n",
       "      <th>Density (P/Km²)</th>\n",
       "      <th>Urban Pop %</th>\n",
       "      <th>Urban Population</th>\n",
       "      <th>Country's Share of World Pop</th>\n",
       "      <th>World Population</th>\n",
       "      <th>UgandaGlobal Rank</th>\n",
       "    </tr>\n",
       "  </thead>\n",
       "  <tbody>\n",
       "    <tr>\n",
       "      <th>0</th>\n",
       "      <td>2020</td>\n",
       "      <td>45,741,007</td>\n",
       "      <td>3.32 %</td>\n",
       "      <td>1,471,413</td>\n",
       "      <td>168,694</td>\n",
       "      <td>16.7</td>\n",
       "      <td>5.01</td>\n",
       "      <td>229</td>\n",
       "      <td>25.7 %</td>\n",
       "      <td>11,775,012</td>\n",
       "      <td>0.59 %</td>\n",
       "      <td>7,794,798,739</td>\n",
       "      <td>31</td>\n",
       "    </tr>\n",
       "    <tr>\n",
       "      <th>1</th>\n",
       "      <td>2019</td>\n",
       "      <td>44,269,594</td>\n",
       "      <td>3.61 %</td>\n",
       "      <td>1,540,558</td>\n",
       "      <td>168,694</td>\n",
       "      <td>16.1</td>\n",
       "      <td>5.62</td>\n",
       "      <td>222</td>\n",
       "      <td>25.2 %</td>\n",
       "      <td>11,135,655</td>\n",
       "      <td>0.57 %</td>\n",
       "      <td>7,713,468,100</td>\n",
       "      <td>32</td>\n",
       "    </tr>\n",
       "    <tr>\n",
       "      <th>2</th>\n",
       "      <td>2018</td>\n",
       "      <td>42,729,036</td>\n",
       "      <td>3.80 %</td>\n",
       "      <td>1,562,448</td>\n",
       "      <td>168,694</td>\n",
       "      <td>16.1</td>\n",
       "      <td>5.62</td>\n",
       "      <td>214</td>\n",
       "      <td>24.6 %</td>\n",
       "      <td>10,525,083</td>\n",
       "      <td>0.56 %</td>\n",
       "      <td>7,631,091,040</td>\n",
       "      <td>33</td>\n",
       "    </tr>\n",
       "    <tr>\n",
       "      <th>3</th>\n",
       "      <td>2017</td>\n",
       "      <td>41,166,588</td>\n",
       "      <td>3.83 %</td>\n",
       "      <td>1,517,422</td>\n",
       "      <td>168,694</td>\n",
       "      <td>16.1</td>\n",
       "      <td>5.62</td>\n",
       "      <td>206</td>\n",
       "      <td>24.2 %</td>\n",
       "      <td>9,942,312</td>\n",
       "      <td>0.55 %</td>\n",
       "      <td>7,547,858,925</td>\n",
       "      <td>34</td>\n",
       "    </tr>\n",
       "    <tr>\n",
       "      <th>4</th>\n",
       "      <td>2016</td>\n",
       "      <td>39,649,166</td>\n",
       "      <td>3.72 %</td>\n",
       "      <td>1,423,713</td>\n",
       "      <td>168,694</td>\n",
       "      <td>16.1</td>\n",
       "      <td>5.62</td>\n",
       "      <td>198</td>\n",
       "      <td>23.7 %</td>\n",
       "      <td>9,386,309</td>\n",
       "      <td>0.53 %</td>\n",
       "      <td>7,464,022,049</td>\n",
       "      <td>35</td>\n",
       "    </tr>\n",
       "  </tbody>\n",
       "</table>\n",
       "</div>"
      ],
      "text/plain": [
       "   Year  Population Yearly %  Change Yearly Change Migrants (net) Median Age  \\\n",
       "0  2020  45,741,007           3.32 %     1,471,413        168,694       16.7   \n",
       "1  2019  44,269,594           3.61 %     1,540,558        168,694       16.1   \n",
       "2  2018  42,729,036           3.80 %     1,562,448        168,694       16.1   \n",
       "3  2017  41,166,588           3.83 %     1,517,422        168,694       16.1   \n",
       "4  2016  39,649,166           3.72 %     1,423,713        168,694       16.1   \n",
       "\n",
       "  Fertility Rate Density (P/Km²) Urban Pop % Urban Population  \\\n",
       "0           5.01             229      25.7 %       11,775,012   \n",
       "1           5.62             222      25.2 %       11,135,655   \n",
       "2           5.62             214      24.6 %       10,525,083   \n",
       "3           5.62             206      24.2 %        9,942,312   \n",
       "4           5.62             198      23.7 %        9,386,309   \n",
       "\n",
       "  Country's Share of World Pop World Population UgandaGlobal Rank  \n",
       "0                       0.59 %    7,794,798,739                31  \n",
       "1                       0.57 %    7,713,468,100                32  \n",
       "2                       0.56 %    7,631,091,040                33  \n",
       "3                       0.55 %    7,547,858,925                34  \n",
       "4                       0.53 %    7,464,022,049                35  "
      ]
     },
     "execution_count": 7,
     "metadata": {},
     "output_type": "execute_result"
    }
   ],
   "source": [
    "Dict = {title:column for (title,column) in col}\n",
    "df = pd.DataFrame(Dict)\n",
    "df.head()"
   ]
  },
  {
   "cell_type": "code",
   "execution_count": 8,
   "id": "d539f799",
   "metadata": {},
   "outputs": [
    {
     "data": {
      "text/html": [
       "<div>\n",
       "<style scoped>\n",
       "    .dataframe tbody tr th:only-of-type {\n",
       "        vertical-align: middle;\n",
       "    }\n",
       "\n",
       "    .dataframe tbody tr th {\n",
       "        vertical-align: top;\n",
       "    }\n",
       "\n",
       "    .dataframe thead th {\n",
       "        text-align: right;\n",
       "    }\n",
       "</style>\n",
       "<table border=\"1\" class=\"dataframe\">\n",
       "  <thead>\n",
       "    <tr style=\"text-align: right;\">\n",
       "      <th></th>\n",
       "      <th>Year</th>\n",
       "      <th>Population</th>\n",
       "      <th>Yearly_Change</th>\n",
       "      <th>Migrants</th>\n",
       "      <th>Urban_Population</th>\n",
       "      <th>World_Population</th>\n",
       "    </tr>\n",
       "  </thead>\n",
       "  <tbody>\n",
       "    <tr>\n",
       "      <th>0</th>\n",
       "      <td>2020</td>\n",
       "      <td>45,741,007</td>\n",
       "      <td>1,471,413</td>\n",
       "      <td>168,694</td>\n",
       "      <td>11,775,012</td>\n",
       "      <td>7,794,798,739</td>\n",
       "    </tr>\n",
       "    <tr>\n",
       "      <th>1</th>\n",
       "      <td>2019</td>\n",
       "      <td>44,269,594</td>\n",
       "      <td>1,540,558</td>\n",
       "      <td>168,694</td>\n",
       "      <td>11,135,655</td>\n",
       "      <td>7,713,468,100</td>\n",
       "    </tr>\n",
       "    <tr>\n",
       "      <th>2</th>\n",
       "      <td>2018</td>\n",
       "      <td>42,729,036</td>\n",
       "      <td>1,562,448</td>\n",
       "      <td>168,694</td>\n",
       "      <td>10,525,083</td>\n",
       "      <td>7,631,091,040</td>\n",
       "    </tr>\n",
       "    <tr>\n",
       "      <th>3</th>\n",
       "      <td>2017</td>\n",
       "      <td>41,166,588</td>\n",
       "      <td>1,517,422</td>\n",
       "      <td>168,694</td>\n",
       "      <td>9,942,312</td>\n",
       "      <td>7,547,858,925</td>\n",
       "    </tr>\n",
       "    <tr>\n",
       "      <th>4</th>\n",
       "      <td>2016</td>\n",
       "      <td>39,649,166</td>\n",
       "      <td>1,423,713</td>\n",
       "      <td>168,694</td>\n",
       "      <td>9,386,309</td>\n",
       "      <td>7,464,022,049</td>\n",
       "    </tr>\n",
       "  </tbody>\n",
       "</table>\n",
       "</div>"
      ],
      "text/plain": [
       "   Year  Population Yearly_Change Migrants Urban_Population World_Population\n",
       "0  2020  45,741,007     1,471,413  168,694       11,775,012    7,794,798,739\n",
       "1  2019  44,269,594     1,540,558  168,694       11,135,655    7,713,468,100\n",
       "2  2018  42,729,036     1,562,448  168,694       10,525,083    7,631,091,040\n",
       "3  2017  41,166,588     1,517,422  168,694        9,942,312    7,547,858,925\n",
       "4  2016  39,649,166     1,423,713  168,694        9,386,309    7,464,022,049"
      ]
     },
     "execution_count": 8,
     "metadata": {},
     "output_type": "execute_result"
    }
   ],
   "source": [
    "cdf = df[['Year','Population','Yearly Change','Migrants (net)','Urban Population','World Population']]\n",
    "df1 = cdf.rename(columns = {'Yearly Change': 'Yearly_Change','Migrants (net)':'Migrants','Urban Population': 'Urban_Population','World Population':'World_Population'})\n",
    "df1.head()"
   ]
  },
  {
   "cell_type": "code",
   "execution_count": 9,
   "id": "ee4b352b",
   "metadata": {},
   "outputs": [
    {
     "data": {
      "text/html": [
       "<div>\n",
       "<style scoped>\n",
       "    .dataframe tbody tr th:only-of-type {\n",
       "        vertical-align: middle;\n",
       "    }\n",
       "\n",
       "    .dataframe tbody tr th {\n",
       "        vertical-align: top;\n",
       "    }\n",
       "\n",
       "    .dataframe thead th {\n",
       "        text-align: right;\n",
       "    }\n",
       "</style>\n",
       "<table border=\"1\" class=\"dataframe\">\n",
       "  <thead>\n",
       "    <tr style=\"text-align: right;\">\n",
       "      <th></th>\n",
       "      <th>Year</th>\n",
       "      <th>Population</th>\n",
       "      <th>Yearly_Change</th>\n",
       "      <th>Migrants</th>\n",
       "      <th>Urban_Population</th>\n",
       "      <th>World_Population</th>\n",
       "    </tr>\n",
       "  </thead>\n",
       "  <tbody>\n",
       "    <tr>\n",
       "      <th>14</th>\n",
       "      <td>1970</td>\n",
       "      <td>9405600</td>\n",
       "      <td>283907</td>\n",
       "      <td>10001</td>\n",
       "      <td>629441</td>\n",
       "      <td>3700437046</td>\n",
       "    </tr>\n",
       "    <tr>\n",
       "      <th>15</th>\n",
       "      <td>1965</td>\n",
       "      <td>7986066</td>\n",
       "      <td>243794</td>\n",
       "      <td>25000</td>\n",
       "      <td>441548</td>\n",
       "      <td>3339583597</td>\n",
       "    </tr>\n",
       "    <tr>\n",
       "      <th>16</th>\n",
       "      <td>1960</td>\n",
       "      <td>6767095</td>\n",
       "      <td>175660</td>\n",
       "      <td>0</td>\n",
       "      <td>299817</td>\n",
       "      <td>3034949748</td>\n",
       "    </tr>\n",
       "    <tr>\n",
       "      <th>17</th>\n",
       "      <td>1955</td>\n",
       "      <td>5888793</td>\n",
       "      <td>146121</td>\n",
       "      <td>0</td>\n",
       "      <td>208359</td>\n",
       "      <td>2773019936</td>\n",
       "    </tr>\n",
       "    <tr>\n",
       "      <th>18</th>\n",
       "      <td>Year</td>\n",
       "      <td>Population</td>\n",
       "      <td>Yearly Change</td>\n",
       "      <td>Migrants (net)</td>\n",
       "      <td>Urban Population</td>\n",
       "      <td>World Population</td>\n",
       "    </tr>\n",
       "  </tbody>\n",
       "</table>\n",
       "</div>"
      ],
      "text/plain": [
       "    Year  Population  Yearly_Change        Migrants  Urban_Population  \\\n",
       "14  1970     9405600         283907           10001            629441   \n",
       "15  1965     7986066         243794           25000            441548   \n",
       "16  1960     6767095         175660               0            299817   \n",
       "17  1955     5888793         146121               0            208359   \n",
       "18  Year  Population  Yearly Change  Migrants (net)  Urban Population   \n",
       "\n",
       "    World_Population  \n",
       "14        3700437046  \n",
       "15        3339583597  \n",
       "16        3034949748  \n",
       "17        2773019936  \n",
       "18  World Population  "
      ]
     },
     "execution_count": 9,
     "metadata": {},
     "output_type": "execute_result"
    }
   ],
   "source": [
    "df1 = df1.replace('\\+', '', regex=True)\n",
    "df1 = df1.replace(',', '', regex=True)\n",
    "df1.tail()"
   ]
  },
  {
   "cell_type": "code",
   "execution_count": 10,
   "id": "409963f6",
   "metadata": {},
   "outputs": [],
   "source": [
    "df1 = df1[df1['Yearly_Change'] != 'Yearly Change']"
   ]
  },
  {
   "cell_type": "code",
   "execution_count": 11,
   "id": "7477149f",
   "metadata": {},
   "outputs": [],
   "source": [
    "df1[\"Population\"] = pd.to_numeric(df1[\"Population\"], errors='ignore')\n",
    "df1[\"Year\"] = pd.to_numeric(df1[\"Year\"], errors='ignore')\n",
    "df1[\"Yearly_Change\"] = pd.to_numeric(df1[\"Yearly_Change\"], errors='ignore')\n",
    "df1[\"Migrants\"] = pd.to_numeric(df1[\"Migrants\"], errors='ignore')\n",
    "df1[\"Urban_Population\"] = pd.to_numeric(df1[\"Urban_Population\"], errors='ignore')\n",
    "df1[\"World_Population\"] = pd.to_numeric(df1[\"World_Population\"], errors='ignore')"
   ]
  },
  {
   "cell_type": "code",
   "execution_count": 12,
   "id": "cba4d517",
   "metadata": {},
   "outputs": [
    {
     "data": {
      "text/html": [
       "<div>\n",
       "<style scoped>\n",
       "    .dataframe tbody tr th:only-of-type {\n",
       "        vertical-align: middle;\n",
       "    }\n",
       "\n",
       "    .dataframe tbody tr th {\n",
       "        vertical-align: top;\n",
       "    }\n",
       "\n",
       "    .dataframe thead th {\n",
       "        text-align: right;\n",
       "    }\n",
       "</style>\n",
       "<table border=\"1\" class=\"dataframe\">\n",
       "  <thead>\n",
       "    <tr style=\"text-align: right;\">\n",
       "      <th></th>\n",
       "      <th>Year</th>\n",
       "      <th>Population</th>\n",
       "      <th>Yearly_Change</th>\n",
       "      <th>Migrants</th>\n",
       "      <th>Urban_Population</th>\n",
       "      <th>World_Population</th>\n",
       "    </tr>\n",
       "  </thead>\n",
       "  <tbody>\n",
       "    <tr>\n",
       "      <th>Year</th>\n",
       "      <td>1.000000</td>\n",
       "      <td>0.968480</td>\n",
       "      <td>0.941166</td>\n",
       "      <td>0.483523</td>\n",
       "      <td>0.924069</td>\n",
       "      <td>0.999202</td>\n",
       "    </tr>\n",
       "    <tr>\n",
       "      <th>Population</th>\n",
       "      <td>0.968480</td>\n",
       "      <td>1.000000</td>\n",
       "      <td>0.988750</td>\n",
       "      <td>0.608954</td>\n",
       "      <td>0.989812</td>\n",
       "      <td>0.975045</td>\n",
       "    </tr>\n",
       "    <tr>\n",
       "      <th>Yearly_Change</th>\n",
       "      <td>0.941166</td>\n",
       "      <td>0.988750</td>\n",
       "      <td>1.000000</td>\n",
       "      <td>0.702897</td>\n",
       "      <td>0.988875</td>\n",
       "      <td>0.948742</td>\n",
       "    </tr>\n",
       "    <tr>\n",
       "      <th>Migrants</th>\n",
       "      <td>0.483523</td>\n",
       "      <td>0.608954</td>\n",
       "      <td>0.702897</td>\n",
       "      <td>1.000000</td>\n",
       "      <td>0.666373</td>\n",
       "      <td>0.495621</td>\n",
       "    </tr>\n",
       "    <tr>\n",
       "      <th>Urban_Population</th>\n",
       "      <td>0.924069</td>\n",
       "      <td>0.989812</td>\n",
       "      <td>0.988875</td>\n",
       "      <td>0.666373</td>\n",
       "      <td>1.000000</td>\n",
       "      <td>0.933754</td>\n",
       "    </tr>\n",
       "    <tr>\n",
       "      <th>World_Population</th>\n",
       "      <td>0.999202</td>\n",
       "      <td>0.975045</td>\n",
       "      <td>0.948742</td>\n",
       "      <td>0.495621</td>\n",
       "      <td>0.933754</td>\n",
       "      <td>1.000000</td>\n",
       "    </tr>\n",
       "  </tbody>\n",
       "</table>\n",
       "</div>"
      ],
      "text/plain": [
       "                      Year  Population  Yearly_Change  Migrants  \\\n",
       "Year              1.000000    0.968480       0.941166  0.483523   \n",
       "Population        0.968480    1.000000       0.988750  0.608954   \n",
       "Yearly_Change     0.941166    0.988750       1.000000  0.702897   \n",
       "Migrants          0.483523    0.608954       0.702897  1.000000   \n",
       "Urban_Population  0.924069    0.989812       0.988875  0.666373   \n",
       "World_Population  0.999202    0.975045       0.948742  0.495621   \n",
       "\n",
       "                  Urban_Population  World_Population  \n",
       "Year                      0.924069          0.999202  \n",
       "Population                0.989812          0.975045  \n",
       "Yearly_Change             0.988875          0.948742  \n",
       "Migrants                  0.666373          0.495621  \n",
       "Urban_Population          1.000000          0.933754  \n",
       "World_Population          0.933754          1.000000  "
      ]
     },
     "execution_count": 12,
     "metadata": {},
     "output_type": "execute_result"
    }
   ],
   "source": [
    "df1.corr()"
   ]
  },
  {
   "cell_type": "code",
   "execution_count": 13,
   "id": "da5866b5",
   "metadata": {},
   "outputs": [
    {
     "data": {
      "text/plain": [
       "Year                int64\n",
       "Population          int64\n",
       "Yearly_Change       int64\n",
       "Migrants            int64\n",
       "Urban_Population    int64\n",
       "World_Population    int64\n",
       "dtype: object"
      ]
     },
     "execution_count": 13,
     "metadata": {},
     "output_type": "execute_result"
    }
   ],
   "source": [
    "df1.dtypes"
   ]
  },
  {
   "cell_type": "code",
   "execution_count": 14,
   "id": "17e88bf9",
   "metadata": {},
   "outputs": [],
   "source": [
    "from sklearn.model_selection import train_test_split\n",
    "from sklearn.linear_model import LinearRegression"
   ]
  },
  {
   "cell_type": "markdown",
   "id": "1c10a2cb",
   "metadata": {},
   "source": [
    "### a. Simple linear regression model"
   ]
  },
  {
   "cell_type": "code",
   "execution_count": 15,
   "id": "04863d9a",
   "metadata": {},
   "outputs": [],
   "source": [
    "lx = df1[['Year']]\n",
    "ly = df1['Population']\n",
    "\n",
    "X_train,X_test,y_train,y_test = train_test_split(lx,ly,test_size=0.2)\n",
    "\n",
    "clf = LinearRegression()"
   ]
  },
  {
   "cell_type": "code",
   "execution_count": 16,
   "id": "2f9d062c",
   "metadata": {},
   "outputs": [
    {
     "data": {
      "text/plain": [
       "LinearRegression()"
      ]
     },
     "execution_count": 16,
     "metadata": {},
     "output_type": "execute_result"
    }
   ],
   "source": [
    "#training the model\n",
    "clf.fit(lx,ly)\n"
   ]
  },
  {
   "cell_type": "code",
   "execution_count": 17,
   "id": "cbf94f1c",
   "metadata": {},
   "outputs": [],
   "source": [
    "ly1 = clf.predict(lx)"
   ]
  },
  {
   "cell_type": "code",
   "execution_count": 18,
   "id": "c8d2cef8",
   "metadata": {},
   "outputs": [
    {
     "data": {
      "text/plain": [
       "0.9379534935349279"
      ]
     },
     "execution_count": 18,
     "metadata": {},
     "output_type": "execute_result"
    }
   ],
   "source": [
    "from sklearn.metrics import r2_score\n",
    "r2_score(ly,ly1)"
   ]
  },
  {
   "cell_type": "markdown",
   "id": "fb89a70a",
   "metadata": {},
   "source": [
    "### b. Multiple linear regression model"
   ]
  },
  {
   "cell_type": "code",
   "execution_count": 19,
   "id": "14d5438a",
   "metadata": {},
   "outputs": [],
   "source": [
    "mx1 = df1.drop(['Year'],axis=1).values\n",
    "my1 = df1['Year'].values"
   ]
  },
  {
   "cell_type": "code",
   "execution_count": 20,
   "id": "12fc1385",
   "metadata": {},
   "outputs": [],
   "source": [
    "X_trainm,X_testm,y_trainm,y_testm = train_test_split(mx1,my1,test_size=0.2)"
   ]
  },
  {
   "cell_type": "code",
   "execution_count": 21,
   "id": "5d14346d",
   "metadata": {},
   "outputs": [
    {
     "data": {
      "text/plain": [
       "LinearRegression()"
      ]
     },
     "execution_count": 21,
     "metadata": {},
     "output_type": "execute_result"
    }
   ],
   "source": [
    "#training the model\n",
    "clf.fit(X_trainm,y_trainm)"
   ]
  },
  {
   "cell_type": "code",
   "execution_count": 22,
   "id": "10e8857a",
   "metadata": {},
   "outputs": [
    {
     "data": {
      "text/plain": [
       "array([1991.53911801, 1995.92663785, 2017.06158265, 2009.38201638])"
      ]
     },
     "execution_count": 22,
     "metadata": {},
     "output_type": "execute_result"
    }
   ],
   "source": [
    "clf.predict(X_testm)"
   ]
  },
  {
   "cell_type": "code",
   "execution_count": 23,
   "id": "c3481446",
   "metadata": {},
   "outputs": [
    {
     "data": {
      "text/plain": [
       "0.9894921720827876"
      ]
     },
     "execution_count": 23,
     "metadata": {},
     "output_type": "execute_result"
    }
   ],
   "source": [
    "r2_score(y_testm,clf.predict(X_testm))"
   ]
  },
  {
   "cell_type": "markdown",
   "id": "4d6e64b7",
   "metadata": {},
   "source": [
    "### c. Order 2 polynomial Regression model"
   ]
  },
  {
   "cell_type": "code",
   "execution_count": 24,
   "id": "ddc62670",
   "metadata": {},
   "outputs": [],
   "source": [
    "o2x = df1[['Year']]\n",
    "o2y = df1['Population']\n",
    "\n",
    "from sklearn.preprocessing import PolynomialFeatures\n",
    "X_train,X_test,y_train,y_test = train_test_split(o2x,o2y,test_size=0.2)"
   ]
  },
  {
   "cell_type": "code",
   "execution_count": 25,
   "id": "9dae9d62",
   "metadata": {},
   "outputs": [],
   "source": [
    "poly2 = PolynomialFeatures(degree=2)"
   ]
  },
  {
   "cell_type": "code",
   "execution_count": 26,
   "id": "31f20a75",
   "metadata": {},
   "outputs": [],
   "source": [
    "X_poly2 = poly2.fit_transform(X_train)"
   ]
  },
  {
   "cell_type": "code",
   "execution_count": 27,
   "id": "993262b3",
   "metadata": {},
   "outputs": [
    {
     "data": {
      "text/plain": [
       "PolynomialFeatures()"
      ]
     },
     "execution_count": 27,
     "metadata": {},
     "output_type": "execute_result"
    }
   ],
   "source": [
    "poly2.fit(X_poly2,y_train)"
   ]
  },
  {
   "cell_type": "code",
   "execution_count": 28,
   "id": "2859398c",
   "metadata": {},
   "outputs": [],
   "source": [
    "regress = LinearRegression()"
   ]
  },
  {
   "cell_type": "code",
   "execution_count": 29,
   "id": "d6532058",
   "metadata": {},
   "outputs": [
    {
     "data": {
      "text/plain": [
       "LinearRegression()"
      ]
     },
     "execution_count": 29,
     "metadata": {},
     "output_type": "execute_result"
    }
   ],
   "source": [
    "regress.fit(X_poly2,y_train)"
   ]
  },
  {
   "cell_type": "code",
   "execution_count": 30,
   "id": "513dee6f",
   "metadata": {},
   "outputs": [],
   "source": [
    "y_pred2 = regress.predict(X_poly2)"
   ]
  },
  {
   "cell_type": "code",
   "execution_count": 31,
   "id": "f23e6edb",
   "metadata": {},
   "outputs": [
    {
     "data": {
      "text/plain": [
       "0.9969425397209073"
      ]
     },
     "execution_count": 31,
     "metadata": {},
     "output_type": "execute_result"
    }
   ],
   "source": [
    "r2_score(y_train,y_pred2)"
   ]
  },
  {
   "cell_type": "markdown",
   "id": "3424b95a",
   "metadata": {},
   "source": [
    "### d. Order 3 polynomial regression model"
   ]
  },
  {
   "cell_type": "code",
   "execution_count": 32,
   "id": "c1ce55be",
   "metadata": {},
   "outputs": [],
   "source": [
    "poly3 = PolynomialFeatures(degree=3)"
   ]
  },
  {
   "cell_type": "code",
   "execution_count": 33,
   "id": "b4965cb9",
   "metadata": {},
   "outputs": [],
   "source": [
    "X_poly3 = poly3.fit_transform(X_train)"
   ]
  },
  {
   "cell_type": "code",
   "execution_count": 34,
   "id": "0c04bed3",
   "metadata": {},
   "outputs": [
    {
     "data": {
      "text/plain": [
       "PolynomialFeatures(degree=3)"
      ]
     },
     "execution_count": 34,
     "metadata": {},
     "output_type": "execute_result"
    }
   ],
   "source": [
    "poly3.fit(X_poly3,y_train)"
   ]
  },
  {
   "cell_type": "code",
   "execution_count": 35,
   "id": "dd212310",
   "metadata": {},
   "outputs": [],
   "source": [
    "regress3 = LinearRegression()"
   ]
  },
  {
   "cell_type": "code",
   "execution_count": 36,
   "id": "38558fd9",
   "metadata": {},
   "outputs": [
    {
     "data": {
      "text/plain": [
       "LinearRegression()"
      ]
     },
     "execution_count": 36,
     "metadata": {},
     "output_type": "execute_result"
    }
   ],
   "source": [
    "regress3.fit(X_poly3,y_train)"
   ]
  },
  {
   "cell_type": "code",
   "execution_count": 37,
   "id": "70846af7",
   "metadata": {},
   "outputs": [],
   "source": [
    "y_pred3 = regress3.predict(X_poly3)\n",
    "#y_pred3 = regress3.predict(2028)"
   ]
  },
  {
   "cell_type": "code",
   "execution_count": 38,
   "id": "8e211dea",
   "metadata": {},
   "outputs": [
    {
     "data": {
      "text/plain": [
       "0.9996647048391695"
      ]
     },
     "execution_count": 38,
     "metadata": {},
     "output_type": "execute_result"
    }
   ],
   "source": [
    "r2_score(y_train,y_pred3)"
   ]
  },
  {
   "cell_type": "markdown",
   "id": "3ccf6f81",
   "metadata": {},
   "source": [
    "### e. Exponential Regression Model"
   ]
  },
  {
   "cell_type": "code",
   "execution_count": 39,
   "id": "b41ed1a6",
   "metadata": {},
   "outputs": [],
   "source": [
    "from scipy.optimize import curve_fit\n",
    "xx = df1.Year   \n",
    "xy = df1.Population\n",
    "\n",
    "def exp_func(x,a,b):\n",
    "    return a*b**x\n",
    "\n",
    "popt, pcov = curve_fit(exp_func,xx,xy)\n",
    "yr_predict = exp_func(xx,popt[0],popt[1])"
   ]
  },
  {
   "cell_type": "code",
   "execution_count": 40,
   "id": "992937bb",
   "metadata": {},
   "outputs": [
    {
     "data": {
      "text/plain": [
       "0.4381483708926488"
      ]
     },
     "execution_count": 40,
     "metadata": {},
     "output_type": "execute_result"
    }
   ],
   "source": [
    "r2_score(xy,yr_predict)"
   ]
  },
  {
   "cell_type": "markdown",
   "id": "9ec2f252",
   "metadata": {},
   "source": [
    "## 2. Evaluation of models"
   ]
  },
  {
   "cell_type": "markdown",
   "id": "fcc94b3a",
   "metadata": {},
   "source": [
    "#### Simple linear regression"
   ]
  },
  {
   "cell_type": "code",
   "execution_count": 41,
   "id": "315ef90f",
   "metadata": {},
   "outputs": [
    {
     "data": {
      "text/plain": [
       "0.9379534935349279"
      ]
     },
     "execution_count": 41,
     "metadata": {},
     "output_type": "execute_result"
    }
   ],
   "source": [
    "r2_score(ly,ly1)"
   ]
  },
  {
   "cell_type": "markdown",
   "id": "c7aaf80d",
   "metadata": {},
   "source": [
    "#### Multiple linear regression"
   ]
  },
  {
   "cell_type": "code",
   "execution_count": 42,
   "id": "264881df",
   "metadata": {},
   "outputs": [
    {
     "data": {
      "text/plain": [
       "0.9894921720827876"
      ]
     },
     "execution_count": 42,
     "metadata": {},
     "output_type": "execute_result"
    }
   ],
   "source": [
    "r2_score(y_testm,clf.predict(X_testm))"
   ]
  },
  {
   "cell_type": "markdown",
   "id": "99e3d7f1",
   "metadata": {},
   "source": [
    "#### Order 2 Polynomial regression"
   ]
  },
  {
   "cell_type": "code",
   "execution_count": 43,
   "id": "4faf0c14",
   "metadata": {},
   "outputs": [
    {
     "data": {
      "text/plain": [
       "0.9969425397209073"
      ]
     },
     "execution_count": 43,
     "metadata": {},
     "output_type": "execute_result"
    }
   ],
   "source": [
    "r2_score(y_train,y_pred2)"
   ]
  },
  {
   "cell_type": "markdown",
   "id": "08d7151a",
   "metadata": {},
   "source": [
    "#### Order 3 Polynomial regression"
   ]
  },
  {
   "cell_type": "code",
   "execution_count": 44,
   "id": "4bc26742",
   "metadata": {},
   "outputs": [
    {
     "data": {
      "text/plain": [
       "0.9996647048391695"
      ]
     },
     "execution_count": 44,
     "metadata": {},
     "output_type": "execute_result"
    }
   ],
   "source": [
    "r2_score(y_train,y_pred3)"
   ]
  },
  {
   "cell_type": "markdown",
   "id": "e2dcb3e8",
   "metadata": {},
   "source": [
    "#### Exponential regression"
   ]
  },
  {
   "cell_type": "code",
   "execution_count": 45,
   "id": "5edfdb62",
   "metadata": {},
   "outputs": [
    {
     "data": {
      "text/plain": [
       "0.4381483708926488"
      ]
     },
     "execution_count": 45,
     "metadata": {},
     "output_type": "execute_result"
    }
   ],
   "source": [
    "r2_score(xy,yr_predict)"
   ]
  },
  {
   "cell_type": "markdown",
   "id": "ec3e4ae9",
   "metadata": {},
   "source": [
    "## 3. The most appropriate model. Hence predicting the Uganda population by 2028."
   ]
  },
  {
   "cell_type": "markdown",
   "id": "a2102b42",
   "metadata": {},
   "source": [
    "##### - The Order 3 polynomial regression model is the most appropriate to use with an r2_score of 99.97%"
   ]
  },
  {
   "cell_type": "code",
   "execution_count": 46,
   "id": "f84ff5b1",
   "metadata": {},
   "outputs": [
    {
     "data": {
      "text/plain": [
       "array([58435664.1784668])"
      ]
     },
     "execution_count": 46,
     "metadata": {},
     "output_type": "execute_result"
    }
   ],
   "source": [
    "y_new = regress3.predict(poly3.fit_transform([[2028]]))\n",
    "y_new"
   ]
  },
  {
   "cell_type": "markdown",
   "id": "1bce9d8c",
   "metadata": {},
   "source": [
    "#### - In 2028 the population is estimated to be 58 435 664"
   ]
  }
 ],
 "metadata": {
  "kernelspec": {
   "display_name": "Python 3 (ipykernel)",
   "language": "python",
   "name": "python3"
  },
  "language_info": {
   "codemirror_mode": {
    "name": "ipython",
    "version": 3
   },
   "file_extension": ".py",
   "mimetype": "text/x-python",
   "name": "python",
   "nbconvert_exporter": "python",
   "pygments_lexer": "ipython3",
   "version": "3.9.12"
  }
 },
 "nbformat": 4,
 "nbformat_minor": 5
}
